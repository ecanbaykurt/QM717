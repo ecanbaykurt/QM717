{
  "nbformat": 4,
  "nbformat_minor": 0,
  "metadata": {
    "colab": {
      "provenance": []
    },
    "kernelspec": {
      "name": "python3",
      "display_name": "Python 3"
    },
    "language_info": {
      "name": "python"
    }
  },
  "cells": [
    {
      "cell_type": "markdown",
      "metadata": {
        "id": "d6607df4"
      },
      "source": [
        "\n",
        "## Step 1: Import Libraries\n",
        "\n",
        "In this step, you’ll import basic Python libraries for data analysis.\n",
        "\n",
        "- `pandas` for tables (like Excel)\n",
        "- `numpy` for math (mean, std dev, arrays)\n",
        "- `matplotlib.pyplot` and `seaborn` for charts\n",
        "- `statsmodels` for regression\n",
        "\n",
        "👉 Operators: `import` keyword, `as` to shorten names.\n"
      ]
    },
    {
      "cell_type": "code",
      "execution_count": 2,
      "metadata": {
        "id": "b0affe30"
      },
      "outputs": [],
      "source": [
        "import pandas as pd\n",
        "import numpy as np\n",
        "import matplotlib.pyplot as plt\n",
        "import statsmodels.api as sm"
      ]
    },
    {
      "cell_type": "markdown",
      "metadata": {
        "id": "cwLdIBgBOTgm"
      },
      "source": [
        "\n",
        "## Step 2: Load Your Stock Return Data 📈\n",
        "\n",
        "Here you’ll **mount your Google Drive**, locate your file, and load it into a **DataFrame**.\n",
        "\n",
        "- Use `from google.colab import drive` to mount Drive.\n",
        "- Use `pd.read_excel()` to read Excel files.\n",
        "- Use `.head()` to preview.\n",
        "\n",
        "👉 Operators: `from`, `import`, function calls, dot notation `.head()`\n"
      ]
    },
    {
      "cell_type": "code",
      "execution_count": 3,
      "metadata": {
        "colab": {
          "base_uri": "https://localhost:8080/"
        },
        "outputId": "b505a568-46b4-4a23-c583-fbc3dc665759",
        "id": "jwae2M62OTgm"
      },
      "outputs": [
        {
          "output_type": "stream",
          "name": "stdout",
          "text": [
            "Mounted at /content/drive\n"
          ]
        }
      ],
      "source": [
        "from google.colab import drive\n",
        "drive.mount('/content/drive')"
      ]
    },
    {
      "cell_type": "code",
      "source": [
        "# Change the path if needed\n",
        "file_path = '/content/drive/MyDrive/QM717-2025/Dataset/Masco  review session.xlsx'\n",
        "\n",
        "# Load Excel file\n",
        "masco_df = pd.read_excel(file_path)\n",
        "masco_df['date'] = pd.to_datetime(masco_df['date'])\n",
        "masco_df.head()"
      ],
      "metadata": {
        "colab": {
          "base_uri": "https://localhost:8080/",
          "height": 206
        },
        "outputId": "6c4c07af-737a-4816-8bfb-8c4e3328545b",
        "id": "f4pgWOYsOTgm"
      },
      "execution_count": 4,
      "outputs": [
        {
          "output_type": "execute_result",
          "data": {
            "text/plain": [
              "   PERMNO       date       RET    vwretd    sprtrn\n",
              "0   34032 2004-01-30 -0.021525  0.023042  0.017276\n",
              "1   34032 2004-02-27  0.051763  0.015443  0.012209\n",
              "2   34032 2004-03-31  0.085592 -0.010662 -0.016359\n",
              "3   34032 2004-04-30 -0.074573 -0.024222 -0.016791\n",
              "4   34032 2004-05-28  0.033559  0.014068  0.012083"
            ],
            "text/html": [
              "\n",
              "  <div id=\"df-fbc77e27-772b-488c-8f5c-09df398b4a3d\" class=\"colab-df-container\">\n",
              "    <div>\n",
              "<style scoped>\n",
              "    .dataframe tbody tr th:only-of-type {\n",
              "        vertical-align: middle;\n",
              "    }\n",
              "\n",
              "    .dataframe tbody tr th {\n",
              "        vertical-align: top;\n",
              "    }\n",
              "\n",
              "    .dataframe thead th {\n",
              "        text-align: right;\n",
              "    }\n",
              "</style>\n",
              "<table border=\"1\" class=\"dataframe\">\n",
              "  <thead>\n",
              "    <tr style=\"text-align: right;\">\n",
              "      <th></th>\n",
              "      <th>PERMNO</th>\n",
              "      <th>date</th>\n",
              "      <th>RET</th>\n",
              "      <th>vwretd</th>\n",
              "      <th>sprtrn</th>\n",
              "    </tr>\n",
              "  </thead>\n",
              "  <tbody>\n",
              "    <tr>\n",
              "      <th>0</th>\n",
              "      <td>34032</td>\n",
              "      <td>2004-01-30</td>\n",
              "      <td>-0.021525</td>\n",
              "      <td>0.023042</td>\n",
              "      <td>0.017276</td>\n",
              "    </tr>\n",
              "    <tr>\n",
              "      <th>1</th>\n",
              "      <td>34032</td>\n",
              "      <td>2004-02-27</td>\n",
              "      <td>0.051763</td>\n",
              "      <td>0.015443</td>\n",
              "      <td>0.012209</td>\n",
              "    </tr>\n",
              "    <tr>\n",
              "      <th>2</th>\n",
              "      <td>34032</td>\n",
              "      <td>2004-03-31</td>\n",
              "      <td>0.085592</td>\n",
              "      <td>-0.010662</td>\n",
              "      <td>-0.016359</td>\n",
              "    </tr>\n",
              "    <tr>\n",
              "      <th>3</th>\n",
              "      <td>34032</td>\n",
              "      <td>2004-04-30</td>\n",
              "      <td>-0.074573</td>\n",
              "      <td>-0.024222</td>\n",
              "      <td>-0.016791</td>\n",
              "    </tr>\n",
              "    <tr>\n",
              "      <th>4</th>\n",
              "      <td>34032</td>\n",
              "      <td>2004-05-28</td>\n",
              "      <td>0.033559</td>\n",
              "      <td>0.014068</td>\n",
              "      <td>0.012083</td>\n",
              "    </tr>\n",
              "  </tbody>\n",
              "</table>\n",
              "</div>\n",
              "    <div class=\"colab-df-buttons\">\n",
              "\n",
              "  <div class=\"colab-df-container\">\n",
              "    <button class=\"colab-df-convert\" onclick=\"convertToInteractive('df-fbc77e27-772b-488c-8f5c-09df398b4a3d')\"\n",
              "            title=\"Convert this dataframe to an interactive table.\"\n",
              "            style=\"display:none;\">\n",
              "\n",
              "  <svg xmlns=\"http://www.w3.org/2000/svg\" height=\"24px\" viewBox=\"0 -960 960 960\">\n",
              "    <path d=\"M120-120v-720h720v720H120Zm60-500h600v-160H180v160Zm220 220h160v-160H400v160Zm0 220h160v-160H400v160ZM180-400h160v-160H180v160Zm440 0h160v-160H620v160ZM180-180h160v-160H180v160Zm440 0h160v-160H620v160Z\"/>\n",
              "  </svg>\n",
              "    </button>\n",
              "\n",
              "  <style>\n",
              "    .colab-df-container {\n",
              "      display:flex;\n",
              "      gap: 12px;\n",
              "    }\n",
              "\n",
              "    .colab-df-convert {\n",
              "      background-color: #E8F0FE;\n",
              "      border: none;\n",
              "      border-radius: 50%;\n",
              "      cursor: pointer;\n",
              "      display: none;\n",
              "      fill: #1967D2;\n",
              "      height: 32px;\n",
              "      padding: 0 0 0 0;\n",
              "      width: 32px;\n",
              "    }\n",
              "\n",
              "    .colab-df-convert:hover {\n",
              "      background-color: #E2EBFA;\n",
              "      box-shadow: 0px 1px 2px rgba(60, 64, 67, 0.3), 0px 1px 3px 1px rgba(60, 64, 67, 0.15);\n",
              "      fill: #174EA6;\n",
              "    }\n",
              "\n",
              "    .colab-df-buttons div {\n",
              "      margin-bottom: 4px;\n",
              "    }\n",
              "\n",
              "    [theme=dark] .colab-df-convert {\n",
              "      background-color: #3B4455;\n",
              "      fill: #D2E3FC;\n",
              "    }\n",
              "\n",
              "    [theme=dark] .colab-df-convert:hover {\n",
              "      background-color: #434B5C;\n",
              "      box-shadow: 0px 1px 3px 1px rgba(0, 0, 0, 0.15);\n",
              "      filter: drop-shadow(0px 1px 2px rgba(0, 0, 0, 0.3));\n",
              "      fill: #FFFFFF;\n",
              "    }\n",
              "  </style>\n",
              "\n",
              "    <script>\n",
              "      const buttonEl =\n",
              "        document.querySelector('#df-fbc77e27-772b-488c-8f5c-09df398b4a3d button.colab-df-convert');\n",
              "      buttonEl.style.display =\n",
              "        google.colab.kernel.accessAllowed ? 'block' : 'none';\n",
              "\n",
              "      async function convertToInteractive(key) {\n",
              "        const element = document.querySelector('#df-fbc77e27-772b-488c-8f5c-09df398b4a3d');\n",
              "        const dataTable =\n",
              "          await google.colab.kernel.invokeFunction('convertToInteractive',\n",
              "                                                    [key], {});\n",
              "        if (!dataTable) return;\n",
              "\n",
              "        const docLinkHtml = 'Like what you see? Visit the ' +\n",
              "          '<a target=\"_blank\" href=https://colab.research.google.com/notebooks/data_table.ipynb>data table notebook</a>'\n",
              "          + ' to learn more about interactive tables.';\n",
              "        element.innerHTML = '';\n",
              "        dataTable['output_type'] = 'display_data';\n",
              "        await google.colab.output.renderOutput(dataTable, element);\n",
              "        const docLink = document.createElement('div');\n",
              "        docLink.innerHTML = docLinkHtml;\n",
              "        element.appendChild(docLink);\n",
              "      }\n",
              "    </script>\n",
              "  </div>\n",
              "\n",
              "\n",
              "    <div id=\"df-6d2fb413-49e4-4b2c-9aad-a5098bdcf0e0\">\n",
              "      <button class=\"colab-df-quickchart\" onclick=\"quickchart('df-6d2fb413-49e4-4b2c-9aad-a5098bdcf0e0')\"\n",
              "                title=\"Suggest charts\"\n",
              "                style=\"display:none;\">\n",
              "\n",
              "<svg xmlns=\"http://www.w3.org/2000/svg\" height=\"24px\"viewBox=\"0 0 24 24\"\n",
              "     width=\"24px\">\n",
              "    <g>\n",
              "        <path d=\"M19 3H5c-1.1 0-2 .9-2 2v14c0 1.1.9 2 2 2h14c1.1 0 2-.9 2-2V5c0-1.1-.9-2-2-2zM9 17H7v-7h2v7zm4 0h-2V7h2v10zm4 0h-2v-4h2v4z\"/>\n",
              "    </g>\n",
              "</svg>\n",
              "      </button>\n",
              "\n",
              "<style>\n",
              "  .colab-df-quickchart {\n",
              "      --bg-color: #E8F0FE;\n",
              "      --fill-color: #1967D2;\n",
              "      --hover-bg-color: #E2EBFA;\n",
              "      --hover-fill-color: #174EA6;\n",
              "      --disabled-fill-color: #AAA;\n",
              "      --disabled-bg-color: #DDD;\n",
              "  }\n",
              "\n",
              "  [theme=dark] .colab-df-quickchart {\n",
              "      --bg-color: #3B4455;\n",
              "      --fill-color: #D2E3FC;\n",
              "      --hover-bg-color: #434B5C;\n",
              "      --hover-fill-color: #FFFFFF;\n",
              "      --disabled-bg-color: #3B4455;\n",
              "      --disabled-fill-color: #666;\n",
              "  }\n",
              "\n",
              "  .colab-df-quickchart {\n",
              "    background-color: var(--bg-color);\n",
              "    border: none;\n",
              "    border-radius: 50%;\n",
              "    cursor: pointer;\n",
              "    display: none;\n",
              "    fill: var(--fill-color);\n",
              "    height: 32px;\n",
              "    padding: 0;\n",
              "    width: 32px;\n",
              "  }\n",
              "\n",
              "  .colab-df-quickchart:hover {\n",
              "    background-color: var(--hover-bg-color);\n",
              "    box-shadow: 0 1px 2px rgba(60, 64, 67, 0.3), 0 1px 3px 1px rgba(60, 64, 67, 0.15);\n",
              "    fill: var(--button-hover-fill-color);\n",
              "  }\n",
              "\n",
              "  .colab-df-quickchart-complete:disabled,\n",
              "  .colab-df-quickchart-complete:disabled:hover {\n",
              "    background-color: var(--disabled-bg-color);\n",
              "    fill: var(--disabled-fill-color);\n",
              "    box-shadow: none;\n",
              "  }\n",
              "\n",
              "  .colab-df-spinner {\n",
              "    border: 2px solid var(--fill-color);\n",
              "    border-color: transparent;\n",
              "    border-bottom-color: var(--fill-color);\n",
              "    animation:\n",
              "      spin 1s steps(1) infinite;\n",
              "  }\n",
              "\n",
              "  @keyframes spin {\n",
              "    0% {\n",
              "      border-color: transparent;\n",
              "      border-bottom-color: var(--fill-color);\n",
              "      border-left-color: var(--fill-color);\n",
              "    }\n",
              "    20% {\n",
              "      border-color: transparent;\n",
              "      border-left-color: var(--fill-color);\n",
              "      border-top-color: var(--fill-color);\n",
              "    }\n",
              "    30% {\n",
              "      border-color: transparent;\n",
              "      border-left-color: var(--fill-color);\n",
              "      border-top-color: var(--fill-color);\n",
              "      border-right-color: var(--fill-color);\n",
              "    }\n",
              "    40% {\n",
              "      border-color: transparent;\n",
              "      border-right-color: var(--fill-color);\n",
              "      border-top-color: var(--fill-color);\n",
              "    }\n",
              "    60% {\n",
              "      border-color: transparent;\n",
              "      border-right-color: var(--fill-color);\n",
              "    }\n",
              "    80% {\n",
              "      border-color: transparent;\n",
              "      border-right-color: var(--fill-color);\n",
              "      border-bottom-color: var(--fill-color);\n",
              "    }\n",
              "    90% {\n",
              "      border-color: transparent;\n",
              "      border-bottom-color: var(--fill-color);\n",
              "    }\n",
              "  }\n",
              "</style>\n",
              "\n",
              "      <script>\n",
              "        async function quickchart(key) {\n",
              "          const quickchartButtonEl =\n",
              "            document.querySelector('#' + key + ' button');\n",
              "          quickchartButtonEl.disabled = true;  // To prevent multiple clicks.\n",
              "          quickchartButtonEl.classList.add('colab-df-spinner');\n",
              "          try {\n",
              "            const charts = await google.colab.kernel.invokeFunction(\n",
              "                'suggestCharts', [key], {});\n",
              "          } catch (error) {\n",
              "            console.error('Error during call to suggestCharts:', error);\n",
              "          }\n",
              "          quickchartButtonEl.classList.remove('colab-df-spinner');\n",
              "          quickchartButtonEl.classList.add('colab-df-quickchart-complete');\n",
              "        }\n",
              "        (() => {\n",
              "          let quickchartButtonEl =\n",
              "            document.querySelector('#df-6d2fb413-49e4-4b2c-9aad-a5098bdcf0e0 button');\n",
              "          quickchartButtonEl.style.display =\n",
              "            google.colab.kernel.accessAllowed ? 'block' : 'none';\n",
              "        })();\n",
              "      </script>\n",
              "    </div>\n",
              "\n",
              "    </div>\n",
              "  </div>\n"
            ],
            "application/vnd.google.colaboratory.intrinsic+json": {
              "type": "dataframe",
              "variable_name": "masco_df",
              "summary": "{\n  \"name\": \"masco_df\",\n  \"rows\": 240,\n  \"fields\": [\n    {\n      \"column\": \"PERMNO\",\n      \"properties\": {\n        \"dtype\": \"number\",\n        \"std\": 0,\n        \"min\": 34032,\n        \"max\": 34032,\n        \"num_unique_values\": 1,\n        \"samples\": [\n          34032\n        ],\n        \"semantic_type\": \"\",\n        \"description\": \"\"\n      }\n    },\n    {\n      \"column\": \"date\",\n      \"properties\": {\n        \"dtype\": \"date\",\n        \"min\": \"2004-01-30 00:00:00\",\n        \"max\": \"2023-12-29 00:00:00\",\n        \"num_unique_values\": 240,\n        \"samples\": [\n          \"2006-01-31 00:00:00\"\n        ],\n        \"semantic_type\": \"\",\n        \"description\": \"\"\n      }\n    },\n    {\n      \"column\": \"RET\",\n      \"properties\": {\n        \"dtype\": \"number\",\n        \"std\": 0.10112753376362417,\n        \"min\": -0.421126,\n        \"max\": 0.4619,\n        \"num_unique_values\": 240,\n        \"samples\": [\n          -0.011262\n        ],\n        \"semantic_type\": \"\",\n        \"description\": \"\"\n      }\n    },\n    {\n      \"column\": \"vwretd\",\n      \"properties\": {\n        \"dtype\": \"number\",\n        \"std\": 0.044421381393662016,\n        \"min\": -0.184833,\n        \"max\": 0.129674,\n        \"num_unique_values\": 240,\n        \"samples\": [\n          0.040072\n        ],\n        \"semantic_type\": \"\",\n        \"description\": \"\"\n      }\n    },\n    {\n      \"column\": \"sprtrn\",\n      \"properties\": {\n        \"dtype\": \"number\",\n        \"std\": 0.04297451745726507,\n        \"min\": -0.169425,\n        \"max\": 0.126844,\n        \"num_unique_values\": 240,\n        \"samples\": [\n          0.025467\n        ],\n        \"semantic_type\": \"\",\n        \"description\": \"\"\n      }\n    }\n  ]\n}"
            }
          },
          "metadata": {},
          "execution_count": 4
        }
      ]
    },
    {
      "cell_type": "markdown",
      "metadata": {
        "id": "k_La6lvSOTgm"
      },
      "source": [
        "\n",
        "## Step 3: Visualize relationship - Scatter Plot\n",
        "\n",
        "\n"
      ]
    },
    {
      "cell_type": "markdown",
      "source": [
        "What you’re doing:\n",
        "\n",
        "Use plt.scatter() to see how Masco returns (Y) relate to S&P 500 returns (X).\n",
        "\n",
        "Each dot is one month.\n",
        "\n",
        "Why:\n",
        "\n",
        "You see if the points cluster along a trend → shows if a line makes sense."
      ],
      "metadata": {
        "id": "Odwql_3jOTgm"
      }
    },
    {
      "cell_type": "code",
      "source": [
        "plt.figure(figsize=(8,5))\n",
        "plt.scatter(masco_df['sprtrn'], masco_df['RET'], color='blue', label='Data Points')\n",
        "plt.xlabel('S&P 500 Return')\n",
        "plt.ylabel('Masco Return')\n",
        "plt.title('Masco vs. S&P 500 Returns')\n",
        "plt.legend()\n",
        "plt.show()"
      ],
      "metadata": {
        "colab": {
          "base_uri": "https://localhost:8080/",
          "height": 487
        },
        "outputId": "7c7dfa2a-61af-414d-e769-c157ef780d8d",
        "id": "XkkGLW4MOTgm"
      },
      "execution_count": 5,
      "outputs": [
        {
          "output_type": "display_data",
          "data": {
            "text/plain": [
              "<Figure size 800x500 with 1 Axes>"
            ],
            "image/png": "[encoded data removed]"
          },
          "metadata": {}
        }
      ]
    },
    {
      "cell_type": "markdown",
      "metadata": {
        "id": "9x9iMyaMOTgn"
      },
      "source": [
        "\n",
        "## Step 4: Regression with statsmodels\n",
        "\n",
        "Use `statsmodels` to get the proper least squares fit.\n",
        "\n",
        "Operators: `sm.add_constant()`, `sm.OLS()`, `.fit()`, `.summary()`.\n"
      ]
    },
    {
      "cell_type": "code",
      "execution_count": 6,
      "metadata": {
        "colab": {
          "base_uri": "https://localhost:8080/"
        },
        "outputId": "10b579e2-fa16-4cc9-a65b-733fd996325e",
        "id": "uS8kvftzOTgn"
      },
      "outputs": [
        {
          "output_type": "stream",
          "name": "stdout",
          "text": [
            "                            OLS Regression Results                            \n",
            "==============================================================================\n",
            "Dep. Variable:                    RET   R-squared:                       0.502\n",
            "Model:                            OLS   Adj. R-squared:                  0.500\n",
            "Method:                 Least Squares   F-statistic:                     240.4\n",
            "Date:                Tue, 29 Jul 2025   Prob (F-statistic):           6.03e-38\n",
            "Time:                        17:46:09   Log-Likelihood:                 293.66\n",
            "No. Observations:                 240   AIC:                            -583.3\n",
            "Df Residuals:                     238   BIC:                            -576.4\n",
            "Df Model:                           1                                         \n",
            "Covariance Type:            nonrobust                                         \n",
            "==============================================================================\n",
            "                 coef    std err          t      P>|t|      [0.025      0.975]\n",
            "------------------------------------------------------------------------------\n",
            "const         -0.0004      0.005     -0.095      0.924      -0.010       0.009\n",
            "sprtrn         1.6681      0.108     15.504      0.000       1.456       1.880\n",
            "==============================================================================\n",
            "Omnibus:                       19.635   Durbin-Watson:                   2.242\n",
            "Prob(Omnibus):                  0.000   Jarque-Bera (JB):               43.244\n",
            "Skew:                           0.372   Prob(JB):                     4.07e-10\n",
            "Kurtosis:                       4.942   Cond. No.                         23.3\n",
            "==============================================================================\n",
            "\n",
            "Notes:\n",
            "[1] Standard Errors assume that the covariance matrix of the errors is correctly specified.\n"
          ]
        }
      ],
      "source": [
        "X = masco_df['sprtrn']\n",
        "X = sm.add_constant(X)\n",
        "y = masco_df['RET']\n",
        "\n",
        "model = sm.OLS(y, X).fit()\n",
        "print(model.summary())"
      ]
    },
    {
      "cell_type": "markdown",
      "source": [
        "What’s Most Important\n",
        "\n",
        "Slope (Beta): 1.67 → Masco is more volatile than the market; its returns amplify the market movement.\n",
        "\n",
        "R-squared: 50% → The market explains about half of Masco’s monthly return variability.\n",
        "\n",
        "Significance (P-values):\n",
        "\n",
        "S&P 500 coefficient is highly significant → your regression line is meaningful."
      ],
      "metadata": {
        "id": "5QmCwj-uOUGb"
      }
    }
  ]
}
