{
  "nbformat": 4,
  "nbformat_minor": 0,
  "metadata": {
    "colab": {
      "provenance": []
    },
    "kernelspec": {
      "name": "python3",
      "display_name": "Python 3"
    },
    "language_info": {
      "name": "python"
    }
  },
  "cells": [
    {
      "cell_type": "markdown",
      "source": [
        "## Step 0: WELCOME TO COLAB"
      ],
      "metadata": {
        "id": "4LmDq6krhVZ4"
      }
    },
    {
      "cell_type": "markdown",
      "source": [
        "What You’ll Learn Today:\n",
        "\n",
        "How to compute mean, variance, and standard deviation with Python\n",
        "\n",
        "How to check your hand calculations using Python\n",
        "\n",
        "How to see if 2/3 of data lie within 1 standard deviation, and 95% within 2 standard deviations\n",
        "\n",
        "How to think about data spread with your stock returns"
      ],
      "metadata": {
        "id": "TyDD3cLMbocx"
      }
    },
    {
      "cell_type": "markdown",
      "source": [
        "# Step 1: Import Libraries"
      ],
      "metadata": {
        "id": "fjmFWdEZbu1V"
      }
    },
    {
      "cell_type": "code",
      "source": [
        "import pandas as pd  # for data handling\n",
        "import numpy as np   # for numerical operations"
      ],
      "metadata": {
        "id": "IlgLeCu0bnaF"
      },
      "execution_count": null,
      "outputs": []
    },
    {
      "cell_type": "markdown",
      "source": [
        "#Step 2: Load Your Stock Return Data from Drive"
      ],
      "metadata": {
        "id": "wm5Q77w9bzj8"
      }
    },
    {
      "cell_type": "markdown",
      "source": [
        "1) Click this link: https://drive.google.com/drive/folders/1Oz_bF_O6F4gYCvf2VriHWCfuYyNgRiuJ?usp=drive_link\n",
        "\n",
        "2) Find the file you need inside the folder.\n",
        "It’s in your “Shared with me” section on Google Drive.\n",
        "\n",
        "3) Add it to YOUR Drive:\n",
        "\n",
        "Click the 3 dots next to the file name (More options)\n",
        "\n",
        "Click “Organize”\n",
        "\n",
        "Click “Add shortcut to Drive”\n",
        "\n",
        "Pick a folder you’ll remember (create new dataset file if needed)\n",
        "\n",
        "---> This step is important — you can’t load files directly from “Shared with me”!\n",
        "It must be in your “My Drive”.\n",
        "\n",
        "4) Mount Google Drive in Colab:\n",
        "In your notebook, run:"
      ],
      "metadata": {
        "id": "odEICAFTduqB"
      }
    },
    {
      "cell_type": "code",
      "source": [
        "from google.colab import drive\n",
        "drive.mount('/content/drive')"
      ],
      "metadata": {
        "colab": {
          "base_uri": "https://localhost:8080/"
        },
        "id": "3oDHWORPfZH9",
        "outputId": "4a2303c2-233a-413a-f668-e2141312113c"
      },
      "execution_count": null,
      "outputs": [
        {
          "output_type": "stream",
          "name": "stdout",
          "text": [
            "Drive already mounted at /content/drive; to attempt to forcibly remount, call drive.mount(\"/content/drive\", force_remount=True).\n"
          ]
        }
      ]
    },
    {
      "cell_type": "markdown",
      "source": [
        "5) Find the File Path\n",
        "Open the sidebar on the left:\n",
        "\n",
        "Click the folder icon\n",
        "\n",
        "Click through: drive/My Drive/... until you find your file\n",
        "\n",
        "Right-click the file → Copy Path"
      ],
      "metadata": {
        "id": "ZMF844CPgCwC"
      }
    },
    {
      "cell_type": "code",
      "source": [
        "file_path = '/content/drive/MyDrive/QM717-2025/9 July Meeting/Masco  review session.xlsx'  # Replace with your path!\n",
        "returns_df = pd.read_excel(file_path)\n",
        "returns_df.head()\n"
      ],
      "metadata": {
        "colab": {
          "base_uri": "https://localhost:8080/",
          "height": 206
        },
        "id": "oi74hLe_fxFG",
        "outputId": "82005155-36ca-480e-9e24-cd141ef02116"
      },
      "execution_count": null,
      "outputs": [
        {
          "output_type": "execute_result",
          "data": {
            "text/plain": [
              "   PERMNO       date       RET    vwretd    sprtrn\n",
              "0   34032 2004-01-30 -0.021525  0.023042  0.017276\n",
              "1   34032 2004-02-27  0.051763  0.015443  0.012209\n",
              "2   34032 2004-03-31  0.085592 -0.010662 -0.016359\n",
              "3   34032 2004-04-30 -0.074573 -0.024222 -0.016791\n",
              "4   34032 2004-05-28  0.033559  0.014068  0.012083"
            ],
            "text/html": [
              "\n",
              "  <div id=\"df-29f4dc23-6fd8-4a91-8327-df8ef2790553\" class=\"colab-df-container\">\n",
              "    <div>\n",
              "<style scoped>\n",
              "    .dataframe tbody tr th:only-of-type {\n",
              "        vertical-align: middle;\n",
              "    }\n",
              "\n",
              "    .dataframe tbody tr th {\n",
              "        vertical-align: top;\n",
              "    }\n",
              "\n",
              "    .dataframe thead th {\n",
              "        text-align: right;\n",
              "    }\n",
              "</style>\n",
              "<table border=\"1\" class=\"dataframe\">\n",
              "  <thead>\n",
              "    <tr style=\"text-align: right;\">\n",
              "      <th></th>\n",
              "      <th>PERMNO</th>\n",
              "      <th>date</th>\n",
              "      <th>RET</th>\n",
              "      <th>vwretd</th>\n",
              "      <th>sprtrn</th>\n",
              "    </tr>\n",
              "  </thead>\n",
              "  <tbody>\n",
              "    <tr>\n",
              "      <th>0</th>\n",
              "      <td>34032</td>\n",
              "      <td>2004-01-30</td>\n",
              "      <td>-0.021525</td>\n",
              "      <td>0.023042</td>\n",
              "      <td>0.017276</td>\n",
              "    </tr>\n",
              "    <tr>\n",
              "      <th>1</th>\n",
              "      <td>34032</td>\n",
              "      <td>2004-02-27</td>\n",
              "      <td>0.051763</td>\n",
              "      <td>0.015443</td>\n",
              "      <td>0.012209</td>\n",
              "    </tr>\n",
              "    <tr>\n",
              "      <th>2</th>\n",
              "      <td>34032</td>\n",
              "      <td>2004-03-31</td>\n",
              "      <td>0.085592</td>\n",
              "      <td>-0.010662</td>\n",
              "      <td>-0.016359</td>\n",
              "    </tr>\n",
              "    <tr>\n",
              "      <th>3</th>\n",
              "      <td>34032</td>\n",
              "      <td>2004-04-30</td>\n",
              "      <td>-0.074573</td>\n",
              "      <td>-0.024222</td>\n",
              "      <td>-0.016791</td>\n",
              "    </tr>\n",
              "    <tr>\n",
              "      <th>4</th>\n",
              "      <td>34032</td>\n",
              "      <td>2004-05-28</td>\n",
              "      <td>0.033559</td>\n",
              "      <td>0.014068</td>\n",
              "      <td>0.012083</td>\n",
              "    </tr>\n",
              "  </tbody>\n",
              "</table>\n",
              "</div>\n",
              "    <div class=\"colab-df-buttons\">\n",
              "\n",
              "  <div class=\"colab-df-container\">\n",
              "    <button class=\"colab-df-convert\" onclick=\"convertToInteractive('df-29f4dc23-6fd8-4a91-8327-df8ef2790553')\"\n",
              "            title=\"Convert this dataframe to an interactive table.\"\n",
              "            style=\"display:none;\">\n",
              "\n",
              "  <svg xmlns=\"http://www.w3.org/2000/svg\" height=\"24px\" viewBox=\"0 -960 960 960\">\n",
              "    <path d=\"M120-120v-720h720v720H120Zm60-500h600v-160H180v160Zm220 220h160v-160H400v160Zm0 220h160v-160H400v160ZM180-400h160v-160H180v160Zm440 0h160v-160H620v160ZM180-180h160v-160H180v160Zm440 0h160v-160H620v160Z\"/>\n",
              "  </svg>\n",
              "    </button>\n",
              "\n",
              "  <style>\n",
              "    .colab-df-container {\n",
              "      display:flex;\n",
              "      gap: 12px;\n",
              "    }\n",
              "\n",
              "    .colab-df-convert {\n",
              "      background-color: #E8F0FE;\n",
              "      border: none;\n",
              "      border-radius: 50%;\n",
              "      cursor: pointer;\n",
              "      display: none;\n",
              "      fill: #1967D2;\n",
              "      height: 32px;\n",
              "      padding: 0 0 0 0;\n",
              "      width: 32px;\n",
              "    }\n",
              "\n",
              "    .colab-df-convert:hover {\n",
              "      background-color: #E2EBFA;\n",
              "      box-shadow: 0px 1px 2px rgba(60, 64, 67, 0.3), 0px 1px 3px 1px rgba(60, 64, 67, 0.15);\n",
              "      fill: #174EA6;\n",
              "    }\n",
              "\n",
              "    .colab-df-buttons div {\n",
              "      margin-bottom: 4px;\n",
              "    }\n",
              "\n",
              "    [theme=dark] .colab-df-convert {\n",
              "      background-color: #3B4455;\n",
              "      fill: #D2E3FC;\n",
              "    }\n",
              "\n",
              "    [theme=dark] .colab-df-convert:hover {\n",
              "      background-color: #434B5C;\n",
              "      box-shadow: 0px 1px 3px 1px rgba(0, 0, 0, 0.15);\n",
              "      filter: drop-shadow(0px 1px 2px rgba(0, 0, 0, 0.3));\n",
              "      fill: #FFFFFF;\n",
              "    }\n",
              "  </style>\n",
              "\n",
              "    <script>\n",
              "      const buttonEl =\n",
              "        document.querySelector('#df-29f4dc23-6fd8-4a91-8327-df8ef2790553 button.colab-df-convert');\n",
              "      buttonEl.style.display =\n",
              "        google.colab.kernel.accessAllowed ? 'block' : 'none';\n",
              "\n",
              "      async function convertToInteractive(key) {\n",
              "        const element = document.querySelector('#df-29f4dc23-6fd8-4a91-8327-df8ef2790553');\n",
              "        const dataTable =\n",
              "          await google.colab.kernel.invokeFunction('convertToInteractive',\n",
              "                                                    [key], {});\n",
              "        if (!dataTable) return;\n",
              "\n",
              "        const docLinkHtml = 'Like what you see? Visit the ' +\n",
              "          '<a target=\"_blank\" href=https://colab.research.google.com/notebooks/data_table.ipynb>data table notebook</a>'\n",
              "          + ' to learn more about interactive tables.';\n",
              "        element.innerHTML = '';\n",
              "        dataTable['output_type'] = 'display_data';\n",
              "        await google.colab.output.renderOutput(dataTable, element);\n",
              "        const docLink = document.createElement('div');\n",
              "        docLink.innerHTML = docLinkHtml;\n",
              "        element.appendChild(docLink);\n",
              "      }\n",
              "    </script>\n",
              "  </div>\n",
              "\n",
              "\n",
              "    <div id=\"df-432f9e56-64a0-4507-b3d4-fa86be8b9446\">\n",
              "      <button class=\"colab-df-quickchart\" onclick=\"quickchart('df-432f9e56-64a0-4507-b3d4-fa86be8b9446')\"\n",
              "                title=\"Suggest charts\"\n",
              "                style=\"display:none;\">\n",
              "\n",
              "<svg xmlns=\"http://www.w3.org/2000/svg\" height=\"24px\"viewBox=\"0 0 24 24\"\n",
              "     width=\"24px\">\n",
              "    <g>\n",
              "        <path d=\"M19 3H5c-1.1 0-2 .9-2 2v14c0 1.1.9 2 2 2h14c1.1 0 2-.9 2-2V5c0-1.1-.9-2-2-2zM9 17H7v-7h2v7zm4 0h-2V7h2v10zm4 0h-2v-4h2v4z\"/>\n",
              "    </g>\n",
              "</svg>\n",
              "      </button>\n",
              "\n",
              "<style>\n",
              "  .colab-df-quickchart {\n",
              "      --bg-color: #E8F0FE;\n",
              "      --fill-color: #1967D2;\n",
              "      --hover-bg-color: #E2EBFA;\n",
              "      --hover-fill-color: #174EA6;\n",
              "      --disabled-fill-color: #AAA;\n",
              "      --disabled-bg-color: #DDD;\n",
              "  }\n",
              "\n",
              "  [theme=dark] .colab-df-quickchart {\n",
              "      --bg-color: #3B4455;\n",
              "      --fill-color: #D2E3FC;\n",
              "      --hover-bg-color: #434B5C;\n",
              "      --hover-fill-color: #FFFFFF;\n",
              "      --disabled-bg-color: #3B4455;\n",
              "      --disabled-fill-color: #666;\n",
              "  }\n",
              "\n",
              "  .colab-df-quickchart {\n",
              "    background-color: var(--bg-color);\n",
              "    border: none;\n",
              "    border-radius: 50%;\n",
              "    cursor: pointer;\n",
              "    display: none;\n",
              "    fill: var(--fill-color);\n",
              "    height: 32px;\n",
              "    padding: 0;\n",
              "    width: 32px;\n",
              "  }\n",
              "\n",
              "  .colab-df-quickchart:hover {\n",
              "    background-color: var(--hover-bg-color);\n",
              "    box-shadow: 0 1px 2px rgba(60, 64, 67, 0.3), 0 1px 3px 1px rgba(60, 64, 67, 0.15);\n",
              "    fill: var(--button-hover-fill-color);\n",
              "  }\n",
              "\n",
              "  .colab-df-quickchart-complete:disabled,\n",
              "  .colab-df-quickchart-complete:disabled:hover {\n",
              "    background-color: var(--disabled-bg-color);\n",
              "    fill: var(--disabled-fill-color);\n",
              "    box-shadow: none;\n",
              "  }\n",
              "\n",
              "  .colab-df-spinner {\n",
              "    border: 2px solid var(--fill-color);\n",
              "    border-color: transparent;\n",
              "    border-bottom-color: var(--fill-color);\n",
              "    animation:\n",
              "      spin 1s steps(1) infinite;\n",
              "  }\n",
              "\n",
              "  @keyframes spin {\n",
              "    0% {\n",
              "      border-color: transparent;\n",
              "      border-bottom-color: var(--fill-color);\n",
              "      border-left-color: var(--fill-color);\n",
              "    }\n",
              "    20% {\n",
              "      border-color: transparent;\n",
              "      border-left-color: var(--fill-color);\n",
              "      border-top-color: var(--fill-color);\n",
              "    }\n",
              "    30% {\n",
              "      border-color: transparent;\n",
              "      border-left-color: var(--fill-color);\n",
              "      border-top-color: var(--fill-color);\n",
              "      border-right-color: var(--fill-color);\n",
              "    }\n",
              "    40% {\n",
              "      border-color: transparent;\n",
              "      border-right-color: var(--fill-color);\n",
              "      border-top-color: var(--fill-color);\n",
              "    }\n",
              "    60% {\n",
              "      border-color: transparent;\n",
              "      border-right-color: var(--fill-color);\n",
              "    }\n",
              "    80% {\n",
              "      border-color: transparent;\n",
              "      border-right-color: var(--fill-color);\n",
              "      border-bottom-color: var(--fill-color);\n",
              "    }\n",
              "    90% {\n",
              "      border-color: transparent;\n",
              "      border-bottom-color: var(--fill-color);\n",
              "    }\n",
              "  }\n",
              "</style>\n",
              "\n",
              "      <script>\n",
              "        async function quickchart(key) {\n",
              "          const quickchartButtonEl =\n",
              "            document.querySelector('#' + key + ' button');\n",
              "          quickchartButtonEl.disabled = true;  // To prevent multiple clicks.\n",
              "          quickchartButtonEl.classList.add('colab-df-spinner');\n",
              "          try {\n",
              "            const charts = await google.colab.kernel.invokeFunction(\n",
              "                'suggestCharts', [key], {});\n",
              "          } catch (error) {\n",
              "            console.error('Error during call to suggestCharts:', error);\n",
              "          }\n",
              "          quickchartButtonEl.classList.remove('colab-df-spinner');\n",
              "          quickchartButtonEl.classList.add('colab-df-quickchart-complete');\n",
              "        }\n",
              "        (() => {\n",
              "          let quickchartButtonEl =\n",
              "            document.querySelector('#df-432f9e56-64a0-4507-b3d4-fa86be8b9446 button');\n",
              "          quickchartButtonEl.style.display =\n",
              "            google.colab.kernel.accessAllowed ? 'block' : 'none';\n",
              "        })();\n",
              "      </script>\n",
              "    </div>\n",
              "\n",
              "    </div>\n",
              "  </div>\n"
            ],
            "application/vnd.google.colaboratory.intrinsic+json": {
              "type": "dataframe",
              "variable_name": "returns_df",
              "summary": "{\n  \"name\": \"returns_df\",\n  \"rows\": 240,\n  \"fields\": [\n    {\n      \"column\": \"PERMNO\",\n      \"properties\": {\n        \"dtype\": \"number\",\n        \"std\": 0,\n        \"min\": 34032,\n        \"max\": 34032,\n        \"num_unique_values\": 1,\n        \"samples\": [\n          34032\n        ],\n        \"semantic_type\": \"\",\n        \"description\": \"\"\n      }\n    },\n    {\n      \"column\": \"date\",\n      \"properties\": {\n        \"dtype\": \"date\",\n        \"min\": \"2004-01-30 00:00:00\",\n        \"max\": \"2023-12-29 00:00:00\",\n        \"num_unique_values\": 240,\n        \"samples\": [\n          \"2006-01-31 00:00:00\"\n        ],\n        \"semantic_type\": \"\",\n        \"description\": \"\"\n      }\n    },\n    {\n      \"column\": \"RET\",\n      \"properties\": {\n        \"dtype\": \"number\",\n        \"std\": 0.10112753376362417,\n        \"min\": -0.421126,\n        \"max\": 0.4619,\n        \"num_unique_values\": 240,\n        \"samples\": [\n          -0.011262\n        ],\n        \"semantic_type\": \"\",\n        \"description\": \"\"\n      }\n    },\n    {\n      \"column\": \"vwretd\",\n      \"properties\": {\n        \"dtype\": \"number\",\n        \"std\": 0.044421381393662016,\n        \"min\": -0.184833,\n        \"max\": 0.129674,\n        \"num_unique_values\": 240,\n        \"samples\": [\n          0.040072\n        ],\n        \"semantic_type\": \"\",\n        \"description\": \"\"\n      }\n    },\n    {\n      \"column\": \"sprtrn\",\n      \"properties\": {\n        \"dtype\": \"number\",\n        \"std\": 0.04297451745726507,\n        \"min\": -0.169425,\n        \"max\": 0.126844,\n        \"num_unique_values\": 240,\n        \"samples\": [\n          0.025467\n        ],\n        \"semantic_type\": \"\",\n        \"description\": \"\"\n      }\n    }\n  ]\n}"
            }
          },
          "metadata": {},
          "execution_count": 4
        }
      ]
    },
    {
      "cell_type": "markdown",
      "source": [
        "#Step 3: Compute Mean, Variance & Standard Deviation"
      ],
      "metadata": {
        "id": "mbC_wfPygWe8"
      }
    },
    {
      "cell_type": "markdown",
      "source": [
        "👉 The Mean:\n",
        "The mean is the average return for your stock. It answers the basic question: On average, what do you expect to gain or lose each period?\n",
        "It’s important because it tells you the center of your data — but by itself, it doesn’t tell you how risky the stock is.\n",
        "\n",
        "👉 The Variance:\n",
        "Variance shows how much the returns deviate (spread out) from the mean, on average. It does this by squaring the deviations from the mean and averaging them.\n",
        "A bigger variance means your returns swing more wildly — which means higher risk.\n",
        "\n",
        "👉 The Standard Deviation:\n",
        "Standard deviation is just the square root of the variance.\n",
        "It’s in the same units as your returns (e.g., % return), so it’s easier to interpret:\n",
        "\n",
        "✅ It tells you how far, on average, your returns are from the mean.\n",
        "\n",
        "✅ It’s the key measure for risk and volatility.\n",
        "\n",
        "✅ Investors, analysts, and portfolio managers use it every day to measure and compare risk."
      ],
      "metadata": {
        "id": "8_pNslspjLKP"
      }
    },
    {
      "cell_type": "code",
      "source": [
        "# Replace 'RET' with your actual returns column name\n",
        "returns = returns_df['RET']\n",
        "\n",
        "mean = returns.mean()\n",
        "variance = returns.var()\n",
        "std_dev = returns.std()\n",
        "\n",
        "print(f\"Mean: {mean:.4f}\")\n",
        "print(f\"Variance: {variance:.6f}\")\n",
        "print(f\"Standard Deviation: {std_dev:.4f}\")\n"
      ],
      "metadata": {
        "colab": {
          "base_uri": "https://localhost:8080/"
        },
        "id": "xBep5S55gV9I",
        "outputId": "7f741d39-e535-4ff3-f227-50d931f2eee6"
      },
      "execution_count": null,
      "outputs": [
        {
          "output_type": "stream",
          "name": "stdout",
          "text": [
            "Mean: 0.0113\n",
            "Variance: 0.010227\n",
            "Standard Deviation: 0.1011\n"
          ]
        }
      ]
    },
    {
      "cell_type": "code",
      "source": [
        "dev = returns - mean\n",
        "dev"
      ],
      "metadata": {
        "colab": {
          "base_uri": "https://localhost:8080/",
          "height": 458
        },
        "id": "mFAF3d9X52gW",
        "outputId": "52015fed-ea9e-4608-b3f3-05ab9ddd6a12"
      },
      "execution_count": null,
      "outputs": [
        {
          "output_type": "execute_result",
          "data": {
            "text/plain": [
              "0     -0.032786\n",
              "1      0.040502\n",
              "2      0.074331\n",
              "3     -0.085834\n",
              "4      0.022298\n",
              "         ...   \n",
              "235   -0.034086\n",
              "236   -0.105482\n",
              "237   -0.036705\n",
              "238    0.156621\n",
              "239    0.094932\n",
              "Name: RET, Length: 240, dtype: float64"
            ],
            "text/html": [
              "<div>\n",
              "<style scoped>\n",
              "    .dataframe tbody tr th:only-of-type {\n",
              "        vertical-align: middle;\n",
              "    }\n",
              "\n",
              "    .dataframe tbody tr th {\n",
              "        vertical-align: top;\n",
              "    }\n",
              "\n",
              "    .dataframe thead th {\n",
              "        text-align: right;\n",
              "    }\n",
              "</style>\n",
              "<table border=\"1\" class=\"dataframe\">\n",
              "  <thead>\n",
              "    <tr style=\"text-align: right;\">\n",
              "      <th></th>\n",
              "      <th>RET</th>\n",
              "    </tr>\n",
              "  </thead>\n",
              "  <tbody>\n",
              "    <tr>\n",
              "      <th>0</th>\n",
              "      <td>-0.032786</td>\n",
              "    </tr>\n",
              "    <tr>\n",
              "      <th>1</th>\n",
              "      <td>0.040502</td>\n",
              "    </tr>\n",
              "    <tr>\n",
              "      <th>2</th>\n",
              "      <td>0.074331</td>\n",
              "    </tr>\n",
              "    <tr>\n",
              "      <th>3</th>\n",
              "      <td>-0.085834</td>\n",
              "    </tr>\n",
              "    <tr>\n",
              "      <th>4</th>\n",
              "      <td>0.022298</td>\n",
              "    </tr>\n",
              "    <tr>\n",
              "      <th>...</th>\n",
              "      <td>...</td>\n",
              "    </tr>\n",
              "    <tr>\n",
              "      <th>235</th>\n",
              "      <td>-0.034086</td>\n",
              "    </tr>\n",
              "    <tr>\n",
              "      <th>236</th>\n",
              "      <td>-0.105482</td>\n",
              "    </tr>\n",
              "    <tr>\n",
              "      <th>237</th>\n",
              "      <td>-0.036705</td>\n",
              "    </tr>\n",
              "    <tr>\n",
              "      <th>238</th>\n",
              "      <td>0.156621</td>\n",
              "    </tr>\n",
              "    <tr>\n",
              "      <th>239</th>\n",
              "      <td>0.094932</td>\n",
              "    </tr>\n",
              "  </tbody>\n",
              "</table>\n",
              "<p>240 rows × 1 columns</p>\n",
              "</div><br><label><b>dtype:</b> float64</label>"
            ]
          },
          "metadata": {},
          "execution_count": 9
        }
      ]
    },
    {
      "cell_type": "code",
      "source": [
        "avedev=np.mean(dev)\n",
        "avedev"
      ],
      "metadata": {
        "colab": {
          "base_uri": "https://localhost:8080/"
        },
        "id": "I9yt3thy4qnR",
        "outputId": "8d5eeccb-aee9-4266-eb7d-30eaa1de2dfc"
      },
      "execution_count": null,
      "outputs": [
        {
          "output_type": "execute_result",
          "data": {
            "text/plain": [
              "np.float64(-3.23815048849004e-18)"
            ]
          },
          "metadata": {},
          "execution_count": 11
        }
      ]
    },
    {
      "cell_type": "code",
      "source": [
        "sqdev = (returns - mean)**2\n",
        "sqdev"
      ],
      "metadata": {
        "colab": {
          "base_uri": "https://localhost:8080/",
          "height": 458
        },
        "id": "R6PYaJD17ETU",
        "outputId": "a26804bb-8de1-44ac-9002-894015e8a4f0"
      },
      "execution_count": null,
      "outputs": [
        {
          "output_type": "execute_result",
          "data": {
            "text/plain": [
              "0      0.001075\n",
              "1      0.001640\n",
              "2      0.005525\n",
              "3      0.007368\n",
              "4      0.000497\n",
              "         ...   \n",
              "235    0.001162\n",
              "236    0.011127\n",
              "237    0.001347\n",
              "238    0.024530\n",
              "239    0.009012\n",
              "Name: RET, Length: 240, dtype: float64"
            ],
            "text/html": [
              "<div>\n",
              "<style scoped>\n",
              "    .dataframe tbody tr th:only-of-type {\n",
              "        vertical-align: middle;\n",
              "    }\n",
              "\n",
              "    .dataframe tbody tr th {\n",
              "        vertical-align: top;\n",
              "    }\n",
              "\n",
              "    .dataframe thead th {\n",
              "        text-align: right;\n",
              "    }\n",
              "</style>\n",
              "<table border=\"1\" class=\"dataframe\">\n",
              "  <thead>\n",
              "    <tr style=\"text-align: right;\">\n",
              "      <th></th>\n",
              "      <th>RET</th>\n",
              "    </tr>\n",
              "  </thead>\n",
              "  <tbody>\n",
              "    <tr>\n",
              "      <th>0</th>\n",
              "      <td>0.001075</td>\n",
              "    </tr>\n",
              "    <tr>\n",
              "      <th>1</th>\n",
              "      <td>0.001640</td>\n",
              "    </tr>\n",
              "    <tr>\n",
              "      <th>2</th>\n",
              "      <td>0.005525</td>\n",
              "    </tr>\n",
              "    <tr>\n",
              "      <th>3</th>\n",
              "      <td>0.007368</td>\n",
              "    </tr>\n",
              "    <tr>\n",
              "      <th>4</th>\n",
              "      <td>0.000497</td>\n",
              "    </tr>\n",
              "    <tr>\n",
              "      <th>...</th>\n",
              "      <td>...</td>\n",
              "    </tr>\n",
              "    <tr>\n",
              "      <th>235</th>\n",
              "      <td>0.001162</td>\n",
              "    </tr>\n",
              "    <tr>\n",
              "      <th>236</th>\n",
              "      <td>0.011127</td>\n",
              "    </tr>\n",
              "    <tr>\n",
              "      <th>237</th>\n",
              "      <td>0.001347</td>\n",
              "    </tr>\n",
              "    <tr>\n",
              "      <th>238</th>\n",
              "      <td>0.024530</td>\n",
              "    </tr>\n",
              "    <tr>\n",
              "      <th>239</th>\n",
              "      <td>0.009012</td>\n",
              "    </tr>\n",
              "  </tbody>\n",
              "</table>\n",
              "<p>240 rows × 1 columns</p>\n",
              "</div><br><label><b>dtype:</b> float64</label>"
            ]
          },
          "metadata": {},
          "execution_count": 12
        }
      ]
    },
    {
      "cell_type": "code",
      "source": [
        "ssdev=np.sum(sqdev)\n",
        "masstdev=(ssdev/240)**.5\n",
        "masstdev"
      ],
      "metadata": {
        "colab": {
          "base_uri": "https://localhost:8080/"
        },
        "id": "Ivy4b79q7cfR",
        "outputId": "6d07bc99-5255-47f8-b01b-025d4ff2b2ce"
      },
      "execution_count": null,
      "outputs": [
        {
          "output_type": "execute_result",
          "data": {
            "text/plain": [
              "np.float64(0.10091663148241878)"
            ]
          },
          "metadata": {},
          "execution_count": 16
        }
      ]
    },
    {
      "cell_type": "code",
      "source": [
        "np.std(returns)"
      ],
      "metadata": {
        "colab": {
          "base_uri": "https://localhost:8080/"
        },
        "id": "w91XLtHg8JT8",
        "outputId": "376f03ef-d8c3-4aa1-bb7a-e0374d1280e8"
      },
      "execution_count": null,
      "outputs": [
        {
          "output_type": "execute_result",
          "data": {
            "text/plain": [
              "0.10091663148241874"
            ]
          },
          "metadata": {},
          "execution_count": 14
        }
      ]
    },
    {
      "cell_type": "code",
      "source": [
        "returns_df.head(6)"
      ],
      "metadata": {
        "colab": {
          "base_uri": "https://localhost:8080/",
          "height": 238
        },
        "id": "jveZeX1m4x8E",
        "outputId": "6c4a4f99-d5cd-4001-96ed-97a6cfa643b2"
      },
      "execution_count": null,
      "outputs": [
        {
          "output_type": "execute_result",
          "data": {
            "text/plain": [
              "   PERMNO       date       RET    vwretd    sprtrn\n",
              "0   34032 2004-01-30 -0.021525  0.023042  0.017276\n",
              "1   34032 2004-02-27  0.051763  0.015443  0.012209\n",
              "2   34032 2004-03-31  0.085592 -0.010662 -0.016359\n",
              "3   34032 2004-04-30 -0.074573 -0.024222 -0.016791\n",
              "4   34032 2004-05-28  0.033559  0.014068  0.012083\n",
              "5   34032 2004-06-30  0.077029  0.021611  0.017989"
            ],
            "text/html": [
              "\n",
              "  <div id=\"df-ec42c088-8e68-486c-b4d2-812062a1b05d\" class=\"colab-df-container\">\n",
              "    <div>\n",
              "<style scoped>\n",
              "    .dataframe tbody tr th:only-of-type {\n",
              "        vertical-align: middle;\n",
              "    }\n",
              "\n",
              "    .dataframe tbody tr th {\n",
              "        vertical-align: top;\n",
              "    }\n",
              "\n",
              "    .dataframe thead th {\n",
              "        text-align: right;\n",
              "    }\n",
              "</style>\n",
              "<table border=\"1\" class=\"dataframe\">\n",
              "  <thead>\n",
              "    <tr style=\"text-align: right;\">\n",
              "      <th></th>\n",
              "      <th>PERMNO</th>\n",
              "      <th>date</th>\n",
              "      <th>RET</th>\n",
              "      <th>vwretd</th>\n",
              "      <th>sprtrn</th>\n",
              "    </tr>\n",
              "  </thead>\n",
              "  <tbody>\n",
              "    <tr>\n",
              "      <th>0</th>\n",
              "      <td>34032</td>\n",
              "      <td>2004-01-30</td>\n",
              "      <td>-0.021525</td>\n",
              "      <td>0.023042</td>\n",
              "      <td>0.017276</td>\n",
              "    </tr>\n",
              "    <tr>\n",
              "      <th>1</th>\n",
              "      <td>34032</td>\n",
              "      <td>2004-02-27</td>\n",
              "      <td>0.051763</td>\n",
              "      <td>0.015443</td>\n",
              "      <td>0.012209</td>\n",
              "    </tr>\n",
              "    <tr>\n",
              "      <th>2</th>\n",
              "      <td>34032</td>\n",
              "      <td>2004-03-31</td>\n",
              "      <td>0.085592</td>\n",
              "      <td>-0.010662</td>\n",
              "      <td>-0.016359</td>\n",
              "    </tr>\n",
              "    <tr>\n",
              "      <th>3</th>\n",
              "      <td>34032</td>\n",
              "      <td>2004-04-30</td>\n",
              "      <td>-0.074573</td>\n",
              "      <td>-0.024222</td>\n",
              "      <td>-0.016791</td>\n",
              "    </tr>\n",
              "    <tr>\n",
              "      <th>4</th>\n",
              "      <td>34032</td>\n",
              "      <td>2004-05-28</td>\n",
              "      <td>0.033559</td>\n",
              "      <td>0.014068</td>\n",
              "      <td>0.012083</td>\n",
              "    </tr>\n",
              "    <tr>\n",
              "      <th>5</th>\n",
              "      <td>34032</td>\n",
              "      <td>2004-06-30</td>\n",
              "      <td>0.077029</td>\n",
              "      <td>0.021611</td>\n",
              "      <td>0.017989</td>\n",
              "    </tr>\n",
              "  </tbody>\n",
              "</table>\n",
              "</div>\n",
              "    <div class=\"colab-df-buttons\">\n",
              "\n",
              "  <div class=\"colab-df-container\">\n",
              "    <button class=\"colab-df-convert\" onclick=\"convertToInteractive('df-ec42c088-8e68-486c-b4d2-812062a1b05d')\"\n",
              "            title=\"Convert this dataframe to an interactive table.\"\n",
              "            style=\"display:none;\">\n",
              "\n",
              "  <svg xmlns=\"http://www.w3.org/2000/svg\" height=\"24px\" viewBox=\"0 -960 960 960\">\n",
              "    <path d=\"M120-120v-720h720v720H120Zm60-500h600v-160H180v160Zm220 220h160v-160H400v160Zm0 220h160v-160H400v160ZM180-400h160v-160H180v160Zm440 0h160v-160H620v160ZM180-180h160v-160H180v160Zm440 0h160v-160H620v160Z\"/>\n",
              "  </svg>\n",
              "    </button>\n",
              "\n",
              "  <style>\n",
              "    .colab-df-container {\n",
              "      display:flex;\n",
              "      gap: 12px;\n",
              "    }\n",
              "\n",
              "    .colab-df-convert {\n",
              "      background-color: #E8F0FE;\n",
              "      border: none;\n",
              "      border-radius: 50%;\n",
              "      cursor: pointer;\n",
              "      display: none;\n",
              "      fill: #1967D2;\n",
              "      height: 32px;\n",
              "      padding: 0 0 0 0;\n",
              "      width: 32px;\n",
              "    }\n",
              "\n",
              "    .colab-df-convert:hover {\n",
              "      background-color: #E2EBFA;\n",
              "      box-shadow: 0px 1px 2px rgba(60, 64, 67, 0.3), 0px 1px 3px 1px rgba(60, 64, 67, 0.15);\n",
              "      fill: #174EA6;\n",
              "    }\n",
              "\n",
              "    .colab-df-buttons div {\n",
              "      margin-bottom: 4px;\n",
              "    }\n",
              "\n",
              "    [theme=dark] .colab-df-convert {\n",
              "      background-color: #3B4455;\n",
              "      fill: #D2E3FC;\n",
              "    }\n",
              "\n",
              "    [theme=dark] .colab-df-convert:hover {\n",
              "      background-color: #434B5C;\n",
              "      box-shadow: 0px 1px 3px 1px rgba(0, 0, 0, 0.15);\n",
              "      filter: drop-shadow(0px 1px 2px rgba(0, 0, 0, 0.3));\n",
              "      fill: #FFFFFF;\n",
              "    }\n",
              "  </style>\n",
              "\n",
              "    <script>\n",
              "      const buttonEl =\n",
              "        document.querySelector('#df-ec42c088-8e68-486c-b4d2-812062a1b05d button.colab-df-convert');\n",
              "      buttonEl.style.display =\n",
              "        google.colab.kernel.accessAllowed ? 'block' : 'none';\n",
              "\n",
              "      async function convertToInteractive(key) {\n",
              "        const element = document.querySelector('#df-ec42c088-8e68-486c-b4d2-812062a1b05d');\n",
              "        const dataTable =\n",
              "          await google.colab.kernel.invokeFunction('convertToInteractive',\n",
              "                                                    [key], {});\n",
              "        if (!dataTable) return;\n",
              "\n",
              "        const docLinkHtml = 'Like what you see? Visit the ' +\n",
              "          '<a target=\"_blank\" href=https://colab.research.google.com/notebooks/data_table.ipynb>data table notebook</a>'\n",
              "          + ' to learn more about interactive tables.';\n",
              "        element.innerHTML = '';\n",
              "        dataTable['output_type'] = 'display_data';\n",
              "        await google.colab.output.renderOutput(dataTable, element);\n",
              "        const docLink = document.createElement('div');\n",
              "        docLink.innerHTML = docLinkHtml;\n",
              "        element.appendChild(docLink);\n",
              "      }\n",
              "    </script>\n",
              "  </div>\n",
              "\n",
              "\n",
              "    <div id=\"df-f3d3fa58-76b1-4150-8c16-b68c896627e8\">\n",
              "      <button class=\"colab-df-quickchart\" onclick=\"quickchart('df-f3d3fa58-76b1-4150-8c16-b68c896627e8')\"\n",
              "                title=\"Suggest charts\"\n",
              "                style=\"display:none;\">\n",
              "\n",
              "<svg xmlns=\"http://www.w3.org/2000/svg\" height=\"24px\"viewBox=\"0 0 24 24\"\n",
              "     width=\"24px\">\n",
              "    <g>\n",
              "        <path d=\"M19 3H5c-1.1 0-2 .9-2 2v14c0 1.1.9 2 2 2h14c1.1 0 2-.9 2-2V5c0-1.1-.9-2-2-2zM9 17H7v-7h2v7zm4 0h-2V7h2v10zm4 0h-2v-4h2v4z\"/>\n",
              "    </g>\n",
              "</svg>\n",
              "      </button>\n",
              "\n",
              "<style>\n",
              "  .colab-df-quickchart {\n",
              "      --bg-color: #E8F0FE;\n",
              "      --fill-color: #1967D2;\n",
              "      --hover-bg-color: #E2EBFA;\n",
              "      --hover-fill-color: #174EA6;\n",
              "      --disabled-fill-color: #AAA;\n",
              "      --disabled-bg-color: #DDD;\n",
              "  }\n",
              "\n",
              "  [theme=dark] .colab-df-quickchart {\n",
              "      --bg-color: #3B4455;\n",
              "      --fill-color: #D2E3FC;\n",
              "      --hover-bg-color: #434B5C;\n",
              "      --hover-fill-color: #FFFFFF;\n",
              "      --disabled-bg-color: #3B4455;\n",
              "      --disabled-fill-color: #666;\n",
              "  }\n",
              "\n",
              "  .colab-df-quickchart {\n",
              "    background-color: var(--bg-color);\n",
              "    border: none;\n",
              "    border-radius: 50%;\n",
              "    cursor: pointer;\n",
              "    display: none;\n",
              "    fill: var(--fill-color);\n",
              "    height: 32px;\n",
              "    padding: 0;\n",
              "    width: 32px;\n",
              "  }\n",
              "\n",
              "  .colab-df-quickchart:hover {\n",
              "    background-color: var(--hover-bg-color);\n",
              "    box-shadow: 0 1px 2px rgba(60, 64, 67, 0.3), 0 1px 3px 1px rgba(60, 64, 67, 0.15);\n",
              "    fill: var(--button-hover-fill-color);\n",
              "  }\n",
              "\n",
              "  .colab-df-quickchart-complete:disabled,\n",
              "  .colab-df-quickchart-complete:disabled:hover {\n",
              "    background-color: var(--disabled-bg-color);\n",
              "    fill: var(--disabled-fill-color);\n",
              "    box-shadow: none;\n",
              "  }\n",
              "\n",
              "  .colab-df-spinner {\n",
              "    border: 2px solid var(--fill-color);\n",
              "    border-color: transparent;\n",
              "    border-bottom-color: var(--fill-color);\n",
              "    animation:\n",
              "      spin 1s steps(1) infinite;\n",
              "  }\n",
              "\n",
              "  @keyframes spin {\n",
              "    0% {\n",
              "      border-color: transparent;\n",
              "      border-bottom-color: var(--fill-color);\n",
              "      border-left-color: var(--fill-color);\n",
              "    }\n",
              "    20% {\n",
              "      border-color: transparent;\n",
              "      border-left-color: var(--fill-color);\n",
              "      border-top-color: var(--fill-color);\n",
              "    }\n",
              "    30% {\n",
              "      border-color: transparent;\n",
              "      border-left-color: var(--fill-color);\n",
              "      border-top-color: var(--fill-color);\n",
              "      border-right-color: var(--fill-color);\n",
              "    }\n",
              "    40% {\n",
              "      border-color: transparent;\n",
              "      border-right-color: var(--fill-color);\n",
              "      border-top-color: var(--fill-color);\n",
              "    }\n",
              "    60% {\n",
              "      border-color: transparent;\n",
              "      border-right-color: var(--fill-color);\n",
              "    }\n",
              "    80% {\n",
              "      border-color: transparent;\n",
              "      border-right-color: var(--fill-color);\n",
              "      border-bottom-color: var(--fill-color);\n",
              "    }\n",
              "    90% {\n",
              "      border-color: transparent;\n",
              "      border-bottom-color: var(--fill-color);\n",
              "    }\n",
              "  }\n",
              "</style>\n",
              "\n",
              "      <script>\n",
              "        async function quickchart(key) {\n",
              "          const quickchartButtonEl =\n",
              "            document.querySelector('#' + key + ' button');\n",
              "          quickchartButtonEl.disabled = true;  // To prevent multiple clicks.\n",
              "          quickchartButtonEl.classList.add('colab-df-spinner');\n",
              "          try {\n",
              "            const charts = await google.colab.kernel.invokeFunction(\n",
              "                'suggestCharts', [key], {});\n",
              "          } catch (error) {\n",
              "            console.error('Error during call to suggestCharts:', error);\n",
              "          }\n",
              "          quickchartButtonEl.classList.remove('colab-df-spinner');\n",
              "          quickchartButtonEl.classList.add('colab-df-quickchart-complete');\n",
              "        }\n",
              "        (() => {\n",
              "          let quickchartButtonEl =\n",
              "            document.querySelector('#df-f3d3fa58-76b1-4150-8c16-b68c896627e8 button');\n",
              "          quickchartButtonEl.style.display =\n",
              "            google.colab.kernel.accessAllowed ? 'block' : 'none';\n",
              "        })();\n",
              "      </script>\n",
              "    </div>\n",
              "\n",
              "    </div>\n",
              "  </div>\n"
            ],
            "application/vnd.google.colaboratory.intrinsic+json": {
              "type": "dataframe",
              "variable_name": "returns_df",
              "summary": "{\n  \"name\": \"returns_df\",\n  \"rows\": 240,\n  \"fields\": [\n    {\n      \"column\": \"PERMNO\",\n      \"properties\": {\n        \"dtype\": \"number\",\n        \"std\": 0,\n        \"min\": 34032,\n        \"max\": 34032,\n        \"num_unique_values\": 1,\n        \"samples\": [\n          34032\n        ],\n        \"semantic_type\": \"\",\n        \"description\": \"\"\n      }\n    },\n    {\n      \"column\": \"date\",\n      \"properties\": {\n        \"dtype\": \"date\",\n        \"min\": \"2004-01-30 00:00:00\",\n        \"max\": \"2023-12-29 00:00:00\",\n        \"num_unique_values\": 240,\n        \"samples\": [\n          \"2006-01-31 00:00:00\"\n        ],\n        \"semantic_type\": \"\",\n        \"description\": \"\"\n      }\n    },\n    {\n      \"column\": \"RET\",\n      \"properties\": {\n        \"dtype\": \"number\",\n        \"std\": 0.10112753376362417,\n        \"min\": -0.421126,\n        \"max\": 0.4619,\n        \"num_unique_values\": 240,\n        \"samples\": [\n          -0.011262\n        ],\n        \"semantic_type\": \"\",\n        \"description\": \"\"\n      }\n    },\n    {\n      \"column\": \"vwretd\",\n      \"properties\": {\n        \"dtype\": \"number\",\n        \"std\": 0.044421381393662016,\n        \"min\": -0.184833,\n        \"max\": 0.129674,\n        \"num_unique_values\": 240,\n        \"samples\": [\n          0.040072\n        ],\n        \"semantic_type\": \"\",\n        \"description\": \"\"\n      }\n    },\n    {\n      \"column\": \"sprtrn\",\n      \"properties\": {\n        \"dtype\": \"number\",\n        \"std\": 0.04297451745726507,\n        \"min\": -0.169425,\n        \"max\": 0.126844,\n        \"num_unique_values\": 240,\n        \"samples\": [\n          0.025467\n        ],\n        \"semantic_type\": \"\",\n        \"description\": \"\"\n      }\n    }\n  ]\n}"
            }
          },
          "metadata": {},
          "execution_count": 7
        }
      ]
    },
    {
      "cell_type": "markdown",
      "source": [
        "##DIY #1: Compare with Your Hand Calculation"
      ],
      "metadata": {
        "id": "5Fm7duolggLO"
      }
    },
    {
      "cell_type": "markdown",
      "source": [
        "1️⃣ Do the same calculation by hand in Excel (Deviation from mean, squared deviation, variance, standard deviation).\n",
        "\n",
        "2️⃣ Check if your hand results match these Python results."
      ],
      "metadata": {
        "id": "WrU4C2ALgjnR"
      }
    },
    {
      "cell_type": "markdown",
      "source": [
        "#Step 4: See How Data is Spread Around the Mean"
      ],
      "metadata": {
        "id": "4b8qHZBNgmvc"
      }
    },
    {
      "cell_type": "markdown",
      "source": [
        "The spread around the mean shows how your returns cluster around the average.\n",
        "\n",
        "✅ Why is this important?\n",
        "\n",
        "If most returns are close to the mean → low risk, stable.\n",
        "\n",
        "If returns are far from the mean → high risk, more unpredictable.\n",
        "\n",
        "✅ 1 Standard Deviation:\n",
        "In a normal distribution, about 68% (roughly 2/3) of data should fall within ±1 SD from the mean.\n",
        "\n",
        "✅ 2 Standard Deviations:\n",
        "About 95% of data should fall within ±2 SDs.\n",
        "\n",
        "✅ Why use it?\n",
        "\n",
        "This “rule of thumb” helps you see if your data is roughly normal.\n",
        "\n",
        "Helps investors know what return range they’re likely to experience most of the time.\n",
        "\n",
        "It’s used in risk management, quality control, and portfolio planning."
      ],
      "metadata": {
        "id": "mIO5VQXajUD8"
      }
    },
    {
      "cell_type": "code",
      "source": [
        "# 1 standard deviation range\n",
        "lower_1sd = mean - std_dev\n",
        "upper_1sd = mean + std_dev\n",
        "\n",
        "# 2 standard deviation range\n",
        "lower_2sd = mean - 2*std_dev\n",
        "upper_2sd = mean + 2*std_dev\n",
        "\n",
        "# Fractions within ranges\n",
        "within_1sd = ((returns >= lower_1sd) & (returns <= upper_1sd)).mean()\n",
        "within_2sd = ((returns >= lower_2sd) & (returns <= upper_2sd)).mean()\n",
        "\n",
        "print(f\"Fraction within 1 SD: {within_1sd:.2%}\")\n",
        "print(f\"Fraction within 2 SD: {within_2sd:.2%}\")\n"
      ],
      "metadata": {
        "colab": {
          "base_uri": "https://localhost:8080/"
        },
        "id": "SvlYMpBqgpFR",
        "outputId": "d10d97ef-8391-4be3-e919-47912ff586c3"
      },
      "execution_count": null,
      "outputs": [
        {
          "output_type": "stream",
          "name": "stdout",
          "text": [
            "Fraction within 1 SD: 75.00%\n",
            "Fraction within 2 SD: 96.25%\n"
          ]
        }
      ]
    },
    {
      "cell_type": "markdown",
      "source": [
        "## DIY #2: Interpret"
      ],
      "metadata": {
        "id": "WH2OdacKgteL"
      }
    },
    {
      "cell_type": "markdown",
      "source": [
        "Does about 2/3 of your returns fall within 1 SD?\n",
        "\n",
        "Does about 95% fall within 2 SDs?\n",
        "\n",
        "Does your stock follow the rule of thumb?"
      ],
      "metadata": {
        "id": "qFSNxnwCgyLR"
      }
    },
    {
      "cell_type": "markdown",
      "source": [
        "#Step 5: BONUS - Use Built-in Describe()"
      ],
      "metadata": {
        "id": "Z8ocJv6fheVP"
      }
    },
    {
      "cell_type": "markdown",
      "source": [
        "What Does describe() Do?\n",
        "\n",
        "describe() is a built-in Pandas function that gives you quick summary statistics all in one place.\n",
        "\n",
        "It shows:\n",
        "\n",
        "count: Number of observations.\n",
        "\n",
        "mean: The average.\n",
        "\n",
        "std: Standard deviation.\n",
        "\n",
        "min/max: The smallest and largest values.\n",
        "\n",
        "25% / 50% / 75%: Percentiles (Quartiles) — these show how your data is distributed.\n",
        "\n",
        "✅ It’s a great quick check to see if your hand calculations make sense!"
      ],
      "metadata": {
        "id": "2HQUer2wjkhz"
      }
    },
    {
      "cell_type": "code",
      "source": [
        "# Quick summary stats\n",
        "returns.describe()"
      ],
      "metadata": {
        "colab": {
          "base_uri": "https://localhost:8080/",
          "height": 335
        },
        "id": "qP8KYqTphiIB",
        "outputId": "411ea2d8-31f1-429a-808f-a1c36667becd"
      },
      "execution_count": null,
      "outputs": [
        {
          "output_type": "execute_result",
          "data": {
            "text/plain": [
              "count    240.000000\n",
              "mean       0.011261\n",
              "std        0.101128\n",
              "min       -0.421126\n",
              "25%       -0.049538\n",
              "50%        0.012949\n",
              "75%        0.062587\n",
              "max        0.461900\n",
              "Name: RET, dtype: float64"
            ],
            "text/html": [
              "<div>\n",
              "<style scoped>\n",
              "    .dataframe tbody tr th:only-of-type {\n",
              "        vertical-align: middle;\n",
              "    }\n",
              "\n",
              "    .dataframe tbody tr th {\n",
              "        vertical-align: top;\n",
              "    }\n",
              "\n",
              "    .dataframe thead th {\n",
              "        text-align: right;\n",
              "    }\n",
              "</style>\n",
              "<table border=\"1\" class=\"dataframe\">\n",
              "  <thead>\n",
              "    <tr style=\"text-align: right;\">\n",
              "      <th></th>\n",
              "      <th>RET</th>\n",
              "    </tr>\n",
              "  </thead>\n",
              "  <tbody>\n",
              "    <tr>\n",
              "      <th>count</th>\n",
              "      <td>240.000000</td>\n",
              "    </tr>\n",
              "    <tr>\n",
              "      <th>mean</th>\n",
              "      <td>0.011261</td>\n",
              "    </tr>\n",
              "    <tr>\n",
              "      <th>std</th>\n",
              "      <td>0.101128</td>\n",
              "    </tr>\n",
              "    <tr>\n",
              "      <th>min</th>\n",
              "      <td>-0.421126</td>\n",
              "    </tr>\n",
              "    <tr>\n",
              "      <th>25%</th>\n",
              "      <td>-0.049538</td>\n",
              "    </tr>\n",
              "    <tr>\n",
              "      <th>50%</th>\n",
              "      <td>0.012949</td>\n",
              "    </tr>\n",
              "    <tr>\n",
              "      <th>75%</th>\n",
              "      <td>0.062587</td>\n",
              "    </tr>\n",
              "    <tr>\n",
              "      <th>max</th>\n",
              "      <td>0.461900</td>\n",
              "    </tr>\n",
              "  </tbody>\n",
              "</table>\n",
              "</div><br><label><b>dtype:</b> float64</label>"
            ]
          },
          "metadata": {},
          "execution_count": 9
        }
      ]
    },
    {
      "cell_type": "markdown",
      "source": [
        "#Step 6: Visualize Your Data with a Histogram"
      ],
      "metadata": {
        "id": "ae9t_ty5ip2V"
      }
    },
    {
      "cell_type": "markdown",
      "source": [
        "A histogram helps you see the distribution of your returns:\n",
        "\n",
        "Are they mostly close to the mean?\n",
        "\n",
        "Are there extreme outliers?\n",
        "\n",
        "Is it symmetrical or skewed?"
      ],
      "metadata": {
        "id": "6VYwbd01is6J"
      }
    },
    {
      "cell_type": "code",
      "source": [
        "import matplotlib.pyplot as plt\n",
        "\n",
        "plt.hist(returns, bins=10, edgecolor='black', color='skyblue')\n",
        "plt.title(\"Histogram of Monthly Returns\")\n",
        "plt.xlabel(\"Return\")\n",
        "plt.ylabel(\"Number of Months\")\n",
        "plt.show()"
      ],
      "metadata": {
        "colab": {
          "base_uri": "https://localhost:8080/",
          "height": 472
        },
        "id": "OstZmUtQiunS",
        "outputId": "a4a8e6fa-44d6-4a1b-c691-6cbde55a958f"
      },
      "execution_count": null,
      "outputs": [
        {
          "output_type": "display_data",
          "data": {
            "text/plain": [
              "<Figure size 640x480 with 1 Axes>"
            ],
            "image/png": "[encoded data removed]"
          },
          "metadata": {}
        }
      ]
    },
    {
      "cell_type": "markdown",
      "source": [
        "#Step 7: Visualize the Cumulative Distribution Function (CDF)"
      ],
      "metadata": {
        "id": "axeAg83pixuZ"
      }
    },
    {
      "cell_type": "markdown",
      "source": [
        "A CDF shows the probability that your return is less than or equal to a certain value.\n",
        "\n",
        "It helps you see the spread cumulatively:\n",
        "\n",
        "Steeper slope = data more tightly clustered.\n",
        "\n",
        "Flatter slope = more spread out."
      ],
      "metadata": {
        "id": "ecczJlLri1Lk"
      }
    },
    {
      "cell_type": "code",
      "source": [
        "# Sort the returns\n",
        "sorted_returns = np.sort(returns)\n",
        "\n",
        "# Calculate percentiles\n",
        "p = 1. * np.arange(len(returns)) / (len(returns) - 1)\n",
        "\n",
        "plt.plot(sorted_returns, p, marker='.', linestyle='none', color='blue')\n",
        "plt.title(\"Cumulative Distribution Function (CDF)\")\n",
        "plt.xlabel(\"Return\")\n",
        "plt.ylabel(\"Cumulative Probability\")\n",
        "plt.grid(True)\n",
        "plt.show()\n"
      ],
      "metadata": {
        "colab": {
          "base_uri": "https://localhost:8080/",
          "height": 472
        },
        "id": "6VqNFCC-i2IY",
        "outputId": "5b0b5f6b-1a49-4aad-9e69-114ae3be0460"
      },
      "execution_count": null,
      "outputs": [
        {
          "output_type": "display_data",
          "data": {
            "text/plain": [
              "<Figure size 640x480 with 1 Axes>"
            ],
            "image/png": "[encoded data removed]"
          },
          "metadata": {}
        }
      ]
    },
    {
      "cell_type": "markdown",
      "source": [
        "Rule of Thumb Check\n",
        "After your visualizations:\n",
        "\n",
        "Does your stock’s histogram and CDF support the idea that about 2/3 of returns lie within 1 SD and 95% within 2 SDs?\n",
        "\n",
        "If not, your stock’s returns might be skewed or have fat tails — which is an important insight about risk!"
      ],
      "metadata": {
        "id": "Btm08fBNi52U"
      }
    },
    {
      "cell_type": "markdown",
      "source": [
        "Wrap-Up\n",
        "You now have:\n",
        "\n",
        "Hand + Python calculations for mean, variance, and standard deviation.\n",
        "\n",
        "A clear understanding of how spread shows risk.\n",
        "\n",
        "Visual tools to see if your data matches the “normal distribution” rule of thumb."
      ],
      "metadata": {
        "id": "loYGtLZijE2D"
      }
    }
  ]
}
