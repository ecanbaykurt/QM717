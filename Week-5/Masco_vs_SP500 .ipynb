{
  "nbformat": 4,
  "nbformat_minor": 0,
  "metadata": {
    "colab": {
      "provenance": []
    },
    "kernelspec": {
      "name": "python3",
      "display_name": "Python 3"
    },
    "language_info": {
      "name": "python"
    }
  },
  "cells": [
    {
      "cell_type": "markdown",
      "metadata": {
        "id": "56b515ba"
      },
      "source": [
        "\n",
        "## Step 0: Welcome to Colab\n",
        "\n",
        "Welcome! This week you’ll practice **relationship analysis** between two variables in Python.\n",
        "This means you’ll:\n",
        "\n",
        "- Load real stock return data (Masco vs. S&P 500)\n",
        "- Visualize data with **CDFs** (Cumulative Distribution Functions)\n",
        "\n",
        "👉 Each step explains **what you’re doing**, **what operators/functions** you’ll use, and **why**.\n"
      ]
    },
    {
      "cell_type": "markdown",
      "metadata": {
        "id": "d6607df4"
      },
      "source": [
        "\n",
        "## Step 1: Import Libraries\n",
        "\n",
        "In this step, you’ll import basic Python libraries for data analysis.\n",
        "\n",
        "- `pandas` for tables (like Excel)\n",
        "- `numpy` for math (mean, std dev, arrays)\n",
        "- `matplotlib.pyplot` for charts\n",
        "\n",
        "👉 Operators: `import` keyword, `as` to shorten names.\n"
      ]
    },
    {
      "cell_type": "code",
      "execution_count": 1,
      "metadata": {
        "id": "b0affe30"
      },
      "outputs": [],
      "source": [
        "import pandas as pd\n",
        "import numpy as np\n",
        "import matplotlib.pyplot as plt"
      ]
    },
    {
      "cell_type": "markdown",
      "metadata": {
        "id": "06f3be6f"
      },
      "source": [
        "\n",
        "## Step 2: Load Your Stock Return Data 📈\n",
        "\n",
        "Here you’ll **mount your Google Drive**, locate your file, and load it into a **DataFrame**.\n",
        "\n",
        "- Use `from google.colab import drive` to mount Drive.\n",
        "- Use `pd.read_excel()` to read Excel files.\n",
        "- Use `.head()` to preview.\n",
        "\n",
        "👉 Operators: `from`, `import`, function calls, dot notation `.head()`\n"
      ]
    },
    {
      "cell_type": "code",
      "execution_count": 2,
      "metadata": {
        "colab": {
          "base_uri": "https://localhost:8080/"
        },
        "id": "45a54e6d",
        "outputId": "c37611e7-2096-4146-8fb7-ac1142118e26"
      },
      "outputs": [
        {
          "output_type": "stream",
          "name": "stdout",
          "text": [
            "Mounted at /content/drive\n"
          ]
        }
      ],
      "source": [
        "from google.colab import drive\n",
        "drive.mount('/content/drive')"
      ]
    },
    {
      "cell_type": "code",
      "source": [
        "# Change the path if needed\n",
        "file_path = '/content/drive/MyDrive/QM717-2025/Previous Python Studies/16 July Meeting/Masco  review session.xlsx'\n",
        "\n",
        "# Load Excel file\n",
        "masco_df = pd.read_excel(file_path)\n",
        "masco_df['date'] = pd.to_datetime(masco_df['date'])\n",
        "masco_df.head()\n"
      ],
      "metadata": {
        "colab": {
          "base_uri": "https://localhost:8080/",
          "height": 206
        },
        "id": "IIY7Qt6ZFGo8",
        "outputId": "67f17d90-cecc-4bc4-fcd1-01420a530e2b"
      },
      "execution_count": 4,
      "outputs": [
        {
          "output_type": "execute_result",
          "data": {
            "text/plain": [
              "   PERMNO       date       RET    vwretd    sprtrn\n",
              "0   34032 2004-01-30 -0.021525  0.023042  0.017276\n",
              "1   34032 2004-02-27  0.051763  0.015443  0.012209\n",
              "2   34032 2004-03-31  0.085592 -0.010662 -0.016359\n",
              "3   34032 2004-04-30 -0.074573 -0.024222 -0.016791\n",
              "4   34032 2004-05-28  0.033559  0.014068  0.012083"
            ],
            "text/html": [
              "\n",
              "  <div id=\"df-fe3589ca-dcf5-4b30-9c11-8f5d42434943\" class=\"colab-df-container\">\n",
              "    <div>\n",
              "<style scoped>\n",
              "    .dataframe tbody tr th:only-of-type {\n",
              "        vertical-align: middle;\n",
              "    }\n",
              "\n",
              "    .dataframe tbody tr th {\n",
              "        vertical-align: top;\n",
              "    }\n",
              "\n",
              "    .dataframe thead th {\n",
              "        text-align: right;\n",
              "    }\n",
              "</style>\n",
              "<table border=\"1\" class=\"dataframe\">\n",
              "  <thead>\n",
              "    <tr style=\"text-align: right;\">\n",
              "      <th></th>\n",
              "      <th>PERMNO</th>\n",
              "      <th>date</th>\n",
              "      <th>RET</th>\n",
              "      <th>vwretd</th>\n",
              "      <th>sprtrn</th>\n",
              "    </tr>\n",
              "  </thead>\n",
              "  <tbody>\n",
              "    <tr>\n",
              "      <th>0</th>\n",
              "      <td>34032</td>\n",
              "      <td>2004-01-30</td>\n",
              "      <td>-0.021525</td>\n",
              "      <td>0.023042</td>\n",
              "      <td>0.017276</td>\n",
              "    </tr>\n",
              "    <tr>\n",
              "      <th>1</th>\n",
              "      <td>34032</td>\n",
              "      <td>2004-02-27</td>\n",
              "      <td>0.051763</td>\n",
              "      <td>0.015443</td>\n",
              "      <td>0.012209</td>\n",
              "    </tr>\n",
              "    <tr>\n",
              "      <th>2</th>\n",
              "      <td>34032</td>\n",
              "      <td>2004-03-31</td>\n",
              "      <td>0.085592</td>\n",
              "      <td>-0.010662</td>\n",
              "      <td>-0.016359</td>\n",
              "    </tr>\n",
              "    <tr>\n",
              "      <th>3</th>\n",
              "      <td>34032</td>\n",
              "      <td>2004-04-30</td>\n",
              "      <td>-0.074573</td>\n",
              "      <td>-0.024222</td>\n",
              "      <td>-0.016791</td>\n",
              "    </tr>\n",
              "    <tr>\n",
              "      <th>4</th>\n",
              "      <td>34032</td>\n",
              "      <td>2004-05-28</td>\n",
              "      <td>0.033559</td>\n",
              "      <td>0.014068</td>\n",
              "      <td>0.012083</td>\n",
              "    </tr>\n",
              "  </tbody>\n",
              "</table>\n",
              "</div>\n",
              "    <div class=\"colab-df-buttons\">\n",
              "\n",
              "  <div class=\"colab-df-container\">\n",
              "    <button class=\"colab-df-convert\" onclick=\"convertToInteractive('df-fe3589ca-dcf5-4b30-9c11-8f5d42434943')\"\n",
              "            title=\"Convert this dataframe to an interactive table.\"\n",
              "            style=\"display:none;\">\n",
              "\n",
              "  <svg xmlns=\"http://www.w3.org/2000/svg\" height=\"24px\" viewBox=\"0 -960 960 960\">\n",
              "    <path d=\"M120-120v-720h720v720H120Zm60-500h600v-160H180v160Zm220 220h160v-160H400v160Zm0 220h160v-160H400v160ZM180-400h160v-160H180v160Zm440 0h160v-160H620v160ZM180-180h160v-160H180v160Zm440 0h160v-160H620v160Z\"/>\n",
              "  </svg>\n",
              "    </button>\n",
              "\n",
              "  <style>\n",
              "    .colab-df-container {\n",
              "      display:flex;\n",
              "      gap: 12px;\n",
              "    }\n",
              "\n",
              "    .colab-df-convert {\n",
              "      background-color: #E8F0FE;\n",
              "      border: none;\n",
              "      border-radius: 50%;\n",
              "      cursor: pointer;\n",
              "      display: none;\n",
              "      fill: #1967D2;\n",
              "      height: 32px;\n",
              "      padding: 0 0 0 0;\n",
              "      width: 32px;\n",
              "    }\n",
              "\n",
              "    .colab-df-convert:hover {\n",
              "      background-color: #E2EBFA;\n",
              "      box-shadow: 0px 1px 2px rgba(60, 64, 67, 0.3), 0px 1px 3px 1px rgba(60, 64, 67, 0.15);\n",
              "      fill: #174EA6;\n",
              "    }\n",
              "\n",
              "    .colab-df-buttons div {\n",
              "      margin-bottom: 4px;\n",
              "    }\n",
              "\n",
              "    [theme=dark] .colab-df-convert {\n",
              "      background-color: #3B4455;\n",
              "      fill: #D2E3FC;\n",
              "    }\n",
              "\n",
              "    [theme=dark] .colab-df-convert:hover {\n",
              "      background-color: #434B5C;\n",
              "      box-shadow: 0px 1px 3px 1px rgba(0, 0, 0, 0.15);\n",
              "      filter: drop-shadow(0px 1px 2px rgba(0, 0, 0, 0.3));\n",
              "      fill: #FFFFFF;\n",
              "    }\n",
              "  </style>\n",
              "\n",
              "    <script>\n",
              "      const buttonEl =\n",
              "        document.querySelector('#df-fe3589ca-dcf5-4b30-9c11-8f5d42434943 button.colab-df-convert');\n",
              "      buttonEl.style.display =\n",
              "        google.colab.kernel.accessAllowed ? 'block' : 'none';\n",
              "\n",
              "      async function convertToInteractive(key) {\n",
              "        const element = document.querySelector('#df-fe3589ca-dcf5-4b30-9c11-8f5d42434943');\n",
              "        const dataTable =\n",
              "          await google.colab.kernel.invokeFunction('convertToInteractive',\n",
              "                                                    [key], {});\n",
              "        if (!dataTable) return;\n",
              "\n",
              "        const docLinkHtml = 'Like what you see? Visit the ' +\n",
              "          '<a target=\"_blank\" href=https://colab.research.google.com/notebooks/data_table.ipynb>data table notebook</a>'\n",
              "          + ' to learn more about interactive tables.';\n",
              "        element.innerHTML = '';\n",
              "        dataTable['output_type'] = 'display_data';\n",
              "        await google.colab.output.renderOutput(dataTable, element);\n",
              "        const docLink = document.createElement('div');\n",
              "        docLink.innerHTML = docLinkHtml;\n",
              "        element.appendChild(docLink);\n",
              "      }\n",
              "    </script>\n",
              "  </div>\n",
              "\n",
              "\n",
              "    <div id=\"df-5fd2e411-d569-4142-ae2f-1a66bc295aeb\">\n",
              "      <button class=\"colab-df-quickchart\" onclick=\"quickchart('df-5fd2e411-d569-4142-ae2f-1a66bc295aeb')\"\n",
              "                title=\"Suggest charts\"\n",
              "                style=\"display:none;\">\n",
              "\n",
              "<svg xmlns=\"http://www.w3.org/2000/svg\" height=\"24px\"viewBox=\"0 0 24 24\"\n",
              "     width=\"24px\">\n",
              "    <g>\n",
              "        <path d=\"M19 3H5c-1.1 0-2 .9-2 2v14c0 1.1.9 2 2 2h14c1.1 0 2-.9 2-2V5c0-1.1-.9-2-2-2zM9 17H7v-7h2v7zm4 0h-2V7h2v10zm4 0h-2v-4h2v4z\"/>\n",
              "    </g>\n",
              "</svg>\n",
              "      </button>\n",
              "\n",
              "<style>\n",
              "  .colab-df-quickchart {\n",
              "      --bg-color: #E8F0FE;\n",
              "      --fill-color: #1967D2;\n",
              "      --hover-bg-color: #E2EBFA;\n",
              "      --hover-fill-color: #174EA6;\n",
              "      --disabled-fill-color: #AAA;\n",
              "      --disabled-bg-color: #DDD;\n",
              "  }\n",
              "\n",
              "  [theme=dark] .colab-df-quickchart {\n",
              "      --bg-color: #3B4455;\n",
              "      --fill-color: #D2E3FC;\n",
              "      --hover-bg-color: #434B5C;\n",
              "      --hover-fill-color: #FFFFFF;\n",
              "      --disabled-bg-color: #3B4455;\n",
              "      --disabled-fill-color: #666;\n",
              "  }\n",
              "\n",
              "  .colab-df-quickchart {\n",
              "    background-color: var(--bg-color);\n",
              "    border: none;\n",
              "    border-radius: 50%;\n",
              "    cursor: pointer;\n",
              "    display: none;\n",
              "    fill: var(--fill-color);\n",
              "    height: 32px;\n",
              "    padding: 0;\n",
              "    width: 32px;\n",
              "  }\n",
              "\n",
              "  .colab-df-quickchart:hover {\n",
              "    background-color: var(--hover-bg-color);\n",
              "    box-shadow: 0 1px 2px rgba(60, 64, 67, 0.3), 0 1px 3px 1px rgba(60, 64, 67, 0.15);\n",
              "    fill: var(--button-hover-fill-color);\n",
              "  }\n",
              "\n",
              "  .colab-df-quickchart-complete:disabled,\n",
              "  .colab-df-quickchart-complete:disabled:hover {\n",
              "    background-color: var(--disabled-bg-color);\n",
              "    fill: var(--disabled-fill-color);\n",
              "    box-shadow: none;\n",
              "  }\n",
              "\n",
              "  .colab-df-spinner {\n",
              "    border: 2px solid var(--fill-color);\n",
              "    border-color: transparent;\n",
              "    border-bottom-color: var(--fill-color);\n",
              "    animation:\n",
              "      spin 1s steps(1) infinite;\n",
              "  }\n",
              "\n",
              "  @keyframes spin {\n",
              "    0% {\n",
              "      border-color: transparent;\n",
              "      border-bottom-color: var(--fill-color);\n",
              "      border-left-color: var(--fill-color);\n",
              "    }\n",
              "    20% {\n",
              "      border-color: transparent;\n",
              "      border-left-color: var(--fill-color);\n",
              "      border-top-color: var(--fill-color);\n",
              "    }\n",
              "    30% {\n",
              "      border-color: transparent;\n",
              "      border-left-color: var(--fill-color);\n",
              "      border-top-color: var(--fill-color);\n",
              "      border-right-color: var(--fill-color);\n",
              "    }\n",
              "    40% {\n",
              "      border-color: transparent;\n",
              "      border-right-color: var(--fill-color);\n",
              "      border-top-color: var(--fill-color);\n",
              "    }\n",
              "    60% {\n",
              "      border-color: transparent;\n",
              "      border-right-color: var(--fill-color);\n",
              "    }\n",
              "    80% {\n",
              "      border-color: transparent;\n",
              "      border-right-color: var(--fill-color);\n",
              "      border-bottom-color: var(--fill-color);\n",
              "    }\n",
              "    90% {\n",
              "      border-color: transparent;\n",
              "      border-bottom-color: var(--fill-color);\n",
              "    }\n",
              "  }\n",
              "</style>\n",
              "\n",
              "      <script>\n",
              "        async function quickchart(key) {\n",
              "          const quickchartButtonEl =\n",
              "            document.querySelector('#' + key + ' button');\n",
              "          quickchartButtonEl.disabled = true;  // To prevent multiple clicks.\n",
              "          quickchartButtonEl.classList.add('colab-df-spinner');\n",
              "          try {\n",
              "            const charts = await google.colab.kernel.invokeFunction(\n",
              "                'suggestCharts', [key], {});\n",
              "          } catch (error) {\n",
              "            console.error('Error during call to suggestCharts:', error);\n",
              "          }\n",
              "          quickchartButtonEl.classList.remove('colab-df-spinner');\n",
              "          quickchartButtonEl.classList.add('colab-df-quickchart-complete');\n",
              "        }\n",
              "        (() => {\n",
              "          let quickchartButtonEl =\n",
              "            document.querySelector('#df-5fd2e411-d569-4142-ae2f-1a66bc295aeb button');\n",
              "          quickchartButtonEl.style.display =\n",
              "            google.colab.kernel.accessAllowed ? 'block' : 'none';\n",
              "        })();\n",
              "      </script>\n",
              "    </div>\n",
              "\n",
              "    </div>\n",
              "  </div>\n"
            ],
            "application/vnd.google.colaboratory.intrinsic+json": {
              "type": "dataframe",
              "variable_name": "masco_df",
              "summary": "{\n  \"name\": \"masco_df\",\n  \"rows\": 240,\n  \"fields\": [\n    {\n      \"column\": \"PERMNO\",\n      \"properties\": {\n        \"dtype\": \"number\",\n        \"std\": 0,\n        \"min\": 34032,\n        \"max\": 34032,\n        \"num_unique_values\": 1,\n        \"samples\": [\n          34032\n        ],\n        \"semantic_type\": \"\",\n        \"description\": \"\"\n      }\n    },\n    {\n      \"column\": \"date\",\n      \"properties\": {\n        \"dtype\": \"date\",\n        \"min\": \"2004-01-30 00:00:00\",\n        \"max\": \"2023-12-29 00:00:00\",\n        \"num_unique_values\": 240,\n        \"samples\": [\n          \"2006-01-31 00:00:00\"\n        ],\n        \"semantic_type\": \"\",\n        \"description\": \"\"\n      }\n    },\n    {\n      \"column\": \"RET\",\n      \"properties\": {\n        \"dtype\": \"number\",\n        \"std\": 0.10112753376362417,\n        \"min\": -0.421126,\n        \"max\": 0.4619,\n        \"num_unique_values\": 240,\n        \"samples\": [\n          -0.011262\n        ],\n        \"semantic_type\": \"\",\n        \"description\": \"\"\n      }\n    },\n    {\n      \"column\": \"vwretd\",\n      \"properties\": {\n        \"dtype\": \"number\",\n        \"std\": 0.044421381393662016,\n        \"min\": -0.184833,\n        \"max\": 0.129674,\n        \"num_unique_values\": 240,\n        \"samples\": [\n          0.040072\n        ],\n        \"semantic_type\": \"\",\n        \"description\": \"\"\n      }\n    },\n    {\n      \"column\": \"sprtrn\",\n      \"properties\": {\n        \"dtype\": \"number\",\n        \"std\": 0.04297451745726507,\n        \"min\": -0.169425,\n        \"max\": 0.126844,\n        \"num_unique_values\": 240,\n        \"samples\": [\n          0.025467\n        ],\n        \"semantic_type\": \"\",\n        \"description\": \"\"\n      }\n    }\n  ]\n}"
            }
          },
          "metadata": {},
          "execution_count": 4
        }
      ]
    },
    {
      "cell_type": "markdown",
      "metadata": {
        "id": "066c22fc"
      },
      "source": [
        "\n",
        "## Step 3: Compute & Plot CDFs\n",
        "\n",
        "You’ll build **Cumulative Distribution Functions**:\n",
        "\n",
        "- Use `np.sort()` to sort data.\n",
        "- Use `np.linspace()` for percentiles.\n",
        "- Plot with `plt.plot()`.\n",
        "\n",
        "👉 This shows you the spread of returns.\n",
        "\n",
        "Operators: functions like `np.sort()`, `plt.plot()`, indexing.\n"
      ]
    },
    {
      "cell_type": "code",
      "execution_count": 5,
      "metadata": {
        "colab": {
          "base_uri": "https://localhost:8080/",
          "height": 487
        },
        "id": "bba3e6a9",
        "outputId": "15d7708b-0500-490e-eac5-9902db42bb2b"
      },
      "outputs": [
        {
          "output_type": "display_data",
          "data": {
            "text/plain": [
              "<Figure size 800x500 with 1 Axes>"
            ],
            "image/png": "[encoded data removed]"
          },
          "metadata": {}
        }
      ],
      "source": [
        "\n",
        "masco_sorted = np.sort(masco_df['RET'])\n",
        "sp500_sorted = np.sort(masco_df['sprtrn'])\n",
        "percentiles = np.linspace(0, 1, len(masco_sorted))\n",
        "\n",
        "plt.figure(figsize=(8,5))\n",
        "plt.plot(masco_sorted, percentiles, label='Masco')\n",
        "plt.plot(sp500_sorted, percentiles, label='S&P 500')\n",
        "plt.xlabel('Monthly Return')\n",
        "plt.ylabel('Percentile')\n",
        "plt.title('CDF: Masco vs. S&P 500')\n",
        "plt.legend()\n",
        "plt.show()\n"
      ]
    },
    {
      "cell_type": "markdown",
      "source": [
        "---\n",
        "### ✏️ DIY #1: Try Your Own CDF\n",
        "- Create a new CDF for `vwretd` (if you want to use the value-weighted market return column) or create one just for S&P 500 again but with a different color/style.\n",
        "- Plot all three lines on the same chart: Masco, S&P 500, and your new one.\n",
        "- What do you notice? Which return distribution is wider? Which is more stable?\n",
        "---\n"
      ],
      "metadata": {
        "id": "3AtO_GomGwl6"
      }
    },
    {
      "cell_type": "markdown",
      "metadata": {
        "id": "4aa42115"
      },
      "source": [
        "\n",
        "## Step 4: Fractions of Losses & Gains 📉\n",
        "\n",
        "Check how often big losses (≥10%) or gains (>10%) occur:\n",
        "\n",
        "- Use Boolean conditions like `RET <= -0.10`\n",
        "- Use `.mean()` to get fraction.\n",
        "\n",
        "👉 This turns True/False to 1/0 then averages.\n",
        "\n",
        "Operators: comparison operators (`<=`, `>`), `.mean()`.\n"
      ]
    },
    {
      "cell_type": "code",
      "execution_count": 6,
      "metadata": {
        "colab": {
          "base_uri": "https://localhost:8080/"
        },
        "id": "d573431a",
        "outputId": "6ab4c596-f79d-4429-aac2-55359c77d125"
      },
      "outputs": [
        {
          "output_type": "stream",
          "name": "stdout",
          "text": [
            "Masco: Loss ≥10%: 8.33%, Gain >10%: 15.42%\n",
            "S&P 500: Loss ≥10%: 1.25%, Gain >10%: 1.25%\n"
          ]
        }
      ],
      "source": [
        "loss_masco = (masco_df['RET'] <= -0.10).mean()\n",
        "gain_masco = (masco_df['RET'] > 0.10).mean()\n",
        "\n",
        "loss_sp500 = (masco_df['sprtrn'] <= -0.10).mean()\n",
        "gain_sp500 = (masco_df['sprtrn'] > 0.10).mean()\n",
        "\n",
        "print(f\"Masco: Loss ≥10%: {loss_masco:.2%}, Gain >10%: {gain_masco:.2%}\")\n",
        "print(f\"S&P 500: Loss ≥10%: {loss_sp500:.2%}, Gain >10%: {gain_sp500:.2%}\")\n"
      ]
    }
  ]
}
